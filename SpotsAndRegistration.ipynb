{
 "cells": [
  {
   "cell_type": "markdown",
   "metadata": {},
   "source": [
    "## Import Starfish and other necessary libraries"
   ]
  },
  {
   "cell_type": "code",
   "execution_count": 2,
   "metadata": {},
   "outputs": [],
   "source": [
    "%load_ext autoreload\n",
    "%autoreload 2\n",
    "\n",
    "import functools\n",
    "import os\n",
    "from typing import Mapping, Tuple, Union, Optional\n",
    "import click\n",
    "import numpy as np\n",
    "from skimage.io import imread\n",
    "from slicedimage import ImageFormat\n",
    "from slicedimage.backends import CachingBackend, DiskBackend, HttpBackend, SIZE_LIMIT\n",
    "import pdb\n",
    "from six.moves import urllib\n",
    "import matplotlib\n",
    "import matplotlib.pyplot as plt\n",
    "\n",
    "import starfish\n",
    "from starfish import Codebook, ImageStack, Experiment, ImageStack\n",
    "from starfish.experiment.builder import FetchedTile, TileFetcher, write_experiment_json\n",
    "from starfish.types import Axes, Coordinates, CoordinateValue, Features\n",
    "from starfish.image import Filter, LearnTransform, ApplyTransform\n",
    "from starfish.core.image._registration.transforms_list import TransformsList\n",
    "from starfish.util.plot import (\n",
    "    diagnose_registration, imshow_plane, intensity_histogram\n",
    ")\n"
   ]
  },
  {
   "cell_type": "markdown",
   "metadata": {},
   "source": [
    "## Export data to SpaceTX format\n",
    "\n",
    "First create the subclasses of `FetchedTile` and `TileFetcher` required and then export the data into SpaceTX"
   ]
  },
  {
   "cell_type": "code",
   "execution_count": 2,
   "metadata": {},
   "outputs": [],
   "source": [
    "@functools.lru_cache(maxsize=1)\n",
    "def cached_read_fn(file_path) -> np.ndarray:\n",
    "    return imread(file_path)\n",
    "\n",
    "class StarMapTile(FetchedTile):\n",
    "\n",
    "    def __init__(\n",
    "            self,\n",
    "            file_path: str,\n",
    "            coordinates: Mapping[Union[str, Coordinates], CoordinateValue]\n",
    "    ) -> None:\n",
    "        self.file_path = file_path\n",
    "        self._coordinates = coordinates\n",
    "\n",
    "    @property\n",
    "    def shape(self) -> Mapping[Axes, int]:\n",
    "        shape = np.shape(self.tile_data())\n",
    "        return {Axes.Y: shape[1], Axes.X: shape[0]}\n",
    "\n",
    "    @property\n",
    "    def coordinates(self) -> Mapping[Union[str, Coordinates], CoordinateValue]:\n",
    "        return self._coordinates\n",
    "    \n",
    "    def tile_data(self) -> np.ndarray:\n",
    "        return imread(self.file_path)\n",
    "    \n",
    "    def __str__(self) -> str:\n",
    "        return self.file_path\n",
    "    \n",
    "class StarMapTileFetcher(TileFetcher):\n",
    "    \n",
    "    def __init__(self, input_dir: str) -> None:\n",
    "        self.input_dir = input_dir\n",
    "        \n",
    "    def get_tile(\n",
    "            self, fov_id: int, round_label: int, ch_label: int, zplane_label: int) -> FetchedTile:\n",
    "        if zplane_label < 10:\n",
    "            zplane_padded = f\"00{zplane_label}\"\n",
    "        elif zplane_label < 100:\n",
    "            zplane_padded = f\"0{zplane_label}\"\n",
    "        else:\n",
    "            zplane_padded = str(zplane_label)\n",
    "        basename = f\"Round{round_label+1}/Section3/starmap_5sections_C{ch_label}.tif\"  # translate to 3d\n",
    "        file_path = os.path.join(self.input_dir, basename)\n",
    "        coordinates = {\n",
    "            Coordinates.X: (0.0, 0.0001),\n",
    "            Coordinates.Y: (0.0, 0.0001),\n",
    "            Coordinates.Z: (0.0, 0.0001),\n",
    "        }\n",
    "        return StarMapTile(file_path, coordinates)\n",
    "    \n",
    "class StarMapNisslTileFetcher(TileFetcher):\n",
    "    \n",
    "    def __init__(self, input_dir: str) -> None:\n",
    "        self.input_dir = input_dir\n",
    "        \n",
    "    def get_tile(\n",
    "            self, fov_id: int, round_label: int, ch_label: int, zplane_label: int) -> FetchedTile:\n",
    "        if zplane_label < 10:\n",
    "            zplane_padded = f\"00{zplane_label}\"\n",
    "        elif zplane_label < 100:\n",
    "            zplane_padded = f\"0{zplane_label}\"\n",
    "        else:\n",
    "            zplane_padded = str(zplane_label)\n",
    "        basename = f\"Nissl/Section3/starmap_5sections_C{ch_label}.tif\"\n",
    "        file_path = os.path.join(self.input_dir, basename)\n",
    "        coordinates = {\n",
    "            Coordinates.X: (0.0, 0.0001),\n",
    "            Coordinates.Y: (0.0, 0.0001),\n",
    "            Coordinates.Z: (0.0, 0.0001),\n",
    "        }\n",
    "        return StarMapTile(file_path, coordinates)\n",
    "    \n",
    "def format_data(input_dir, output_dir):\n",
    "    \n",
    "    primary_image_dimensions: Mapping[Axes, int] = {\n",
    "        Axes.ROUND: 6,\n",
    "        Axes.CH: 5,\n",
    "        Axes.ZPLANE: 1\n",
    "    }\n",
    "    \n",
    "    aux_image_dimensions: Mapping[str, Mapping[Union[str, Axes], int]] = {\n",
    "        \"nissl\": {\n",
    "            Axes.ROUND: 1,\n",
    "            Axes.CH: 2,\n",
    "            Axes.ZPLANE: 1\n",
    "        }\n",
    "    }\n",
    "    \n",
    "    write_experiment_json(\n",
    "        path=output_dir,\n",
    "        fov_count=1,\n",
    "        tile_format=ImageFormat.TIFF,\n",
    "        primary_image_dimensions=primary_image_dimensions,\n",
    "        aux_name_to_dimensions=aux_image_dimensions,\n",
    "        primary_tile_fetcher=StarMapTileFetcher(input_dir),\n",
    "        aux_tile_fetcher={\"nissl\": StarMapNisslTileFetcher(input_dir)},\n",
    "        dimension_order=(Axes.ROUND, Axes.CH, Axes.ZPLANE)\n",
    "    )\n",
    "    \n",
    "    codebook = [\n",
    "        {\n",
    "            Features.CODEWORD: [\n",
    "                {Axes.ROUND.value: r, Axes.CH.value: c, Features.CODE_VALUE: 1}\n",
    "            ],\n",
    "            Features.TARGET: f\"R{r}C{c}\"\n",
    "        } for r in range(6) for c in range(4)\n",
    "    ]\n",
    "        \n",
    "        \n",
    "    Codebook.from_code_array(codebook).to_json(\"/home/nomi/Desktop/starfish/experiment/codebook.json\")"
   ]
  },
  {
   "cell_type": "code",
   "execution_count": 3,
   "metadata": {
    "scrolled": true
   },
   "outputs": [
    {
     "name": "stderr",
     "output_type": "stream",
     "text": [
      "/home/nomi/Desktop/starfish/.venv/lib/python3.7/site-packages/skimage/io/_io.py:141: UserWarning: <_io.BytesIO object at 0x7fdd44382ad0> is a low contrast image\n",
      "  warn('%s is a low contrast image' % fname)\n",
      "/home/nomi/Desktop/starfish/.venv/lib/python3.7/site-packages/skimage/io/_io.py:141: UserWarning: <_io.BytesIO object at 0x7fdd443e1c50> is a low contrast image\n",
      "  warn('%s is a low contrast image' % fname)\n",
      "/home/nomi/Desktop/starfish/.venv/lib/python3.7/site-packages/skimage/io/_io.py:141: UserWarning: <_io.BytesIO object at 0x7fdd44350cb0> is a low contrast image\n",
      "  warn('%s is a low contrast image' % fname)\n",
      "/home/nomi/Desktop/starfish/.venv/lib/python3.7/site-packages/skimage/io/_io.py:141: UserWarning: <_io.BytesIO object at 0x7fdd44360110> is a low contrast image\n",
      "  warn('%s is a low contrast image' % fname)\n",
      "/home/nomi/Desktop/starfish/.venv/lib/python3.7/site-packages/skimage/io/_io.py:141: UserWarning: <_io.BytesIO object at 0x7fdd44382b30> is a low contrast image\n",
      "  warn('%s is a low contrast image' % fname)\n",
      "/home/nomi/Desktop/starfish/.venv/lib/python3.7/site-packages/skimage/io/_io.py:141: UserWarning: <_io.BytesIO object at 0x7fdd44350ef0> is a low contrast image\n",
      "  warn('%s is a low contrast image' % fname)\n",
      "/home/nomi/Desktop/starfish/.venv/lib/python3.7/site-packages/skimage/io/_io.py:141: UserWarning: <_io.BytesIO object at 0x7fdd443606b0> is a low contrast image\n",
      "  warn('%s is a low contrast image' % fname)\n"
     ]
    }
   ],
   "source": [
    "format_data(\"/home/nomi/Desktop/starfish/raw_data/AsTiff\",\n",
    "           \"/home/nomi/Desktop/starfish/experiment\")"
   ]
  },
  {
   "cell_type": "markdown",
   "metadata": {},
   "source": [
    "## Load the experiment and visualize the codebook\n",
    "Possibly necessary to copy the codebook information from `codebook_backup.json`."
   ]
  },
  {
   "cell_type": "code",
   "execution_count": 3,
   "metadata": {
    "scrolled": true
   },
   "outputs": [
    {
     "data": {
      "text/plain": [
       "<xarray.Codebook (target: 24, c: 4, r: 6)>\n",
       "array([[[1, 0, ..., 0, 0],\n",
       "        [0, 0, ..., 0, 0],\n",
       "        [0, 0, ..., 0, 0],\n",
       "        [0, 0, ..., 0, 0]],\n",
       "\n",
       "       [[0, 0, ..., 0, 0],\n",
       "        [1, 0, ..., 0, 0],\n",
       "        [0, 0, ..., 0, 0],\n",
       "        [0, 0, ..., 0, 0]],\n",
       "\n",
       "       ...,\n",
       "\n",
       "       [[0, 0, ..., 0, 0],\n",
       "        [0, 0, ..., 0, 0],\n",
       "        [0, 0, ..., 0, 1],\n",
       "        [0, 0, ..., 0, 0]],\n",
       "\n",
       "       [[0, 0, ..., 0, 0],\n",
       "        [0, 0, ..., 0, 0],\n",
       "        [0, 0, ..., 0, 0],\n",
       "        [0, 0, ..., 0, 1]]], dtype=uint8)\n",
       "Coordinates:\n",
       "  * target   (target) object 'R0C0' 'R0C1' 'R0C2' ... 'R5C1' 'R5C2' 'R5C3'\n",
       "  * c        (c) int64 0 1 2 3\n",
       "  * r        (r) int64 0 1 2 3 4 5"
      ]
     },
     "execution_count": 3,
     "metadata": {},
     "output_type": "execute_result"
    }
   ],
   "source": [
    "baseurl: str=\"/home/nomi/Desktop/starfish/experiment/experiment.json\"\n",
    "experiment = Experiment.from_json(baseurl)\n",
    "experiment.codebook"
   ]
  },
  {
   "cell_type": "markdown",
   "metadata": {},
   "source": [
    "## Extract FOV/primary images, and project onto the Z axis"
   ]
  },
  {
   "cell_type": "code",
   "execution_count": 4,
   "metadata": {},
   "outputs": [
    {
     "name": "stderr",
     "output_type": "stream",
     "text": [
      "/home/nomi/Desktop/starfish/.venv/lib/python3.7/site-packages/PIL/Image.py:2735: DecompressionBombWarning: Image size (115075067 pixels) exceeds limit of 89478485 pixels, could be decompression bomb DOS attack.\n",
      "  DecompressionBombWarning,\n"
     ]
    }
   ],
   "source": [
    "fov: ImageStack = experiment[\"fov_000\"]\n",
    "primary: ImageStack = fov.get_image(\"primary\")\n",
    "nissl: ImageStack = fov.get_image(\"nissl\")"
   ]
  },
  {
   "cell_type": "markdown",
   "metadata": {},
   "source": [
    "## Register rounds against DAPI stain"
   ]
  },
  {
   "cell_type": "code",
   "execution_count": null,
   "metadata": {},
   "outputs": [],
   "source": [
    "learnTranslation: LearnTransform.Translation = LearnTransform.Translation(\n",
    "    reference_stack=nissl.sel({Axes.CH: 0, \n",
    "#                                Axes.X: (0, 3000), Axes.Y: (0, 6000)\n",
    "                              }),\n",
    "    axes=Axes.ROUND,\n",
    "    upsampling=1\n",
    ")\n",
    "primaryTransforms: TransformsList = learnTranslation.run(primary.sel({Axes.CH: 0, \n",
    "#                                                                Axes.X: (0, 3000), Axes.Y: (0, 6000)\n",
    "                                                              }))\n",
    "# primaryRegistered: ImageStack = ApplyTransform.Warp().run(primary, transforms, in_place=False, verbose=True)"
   ]
  },
  {
   "cell_type": "code",
   "execution_count": null,
   "metadata": {},
   "outputs": [],
   "source": [
    "learnTranslation: LearnTransform.Translation = LearnTransform.Translation(\n",
    "    reference_stack=primary.sel({Axes.CH: 0, Axes.ROUND: 3, Axes.X: (0, 3000), Axes.Y: (0, 5000)}),\n",
    "    axes=Axes.ROUND,\n",
    "    upsampling=100\n",
    ")\n",
    "primaryTransforms: TransformsList = learnTranslation.run(primary.sel({Axes.CH: 0, Axes.X: (0, 3000), Axes.Y: (0, 5000)}))\n",
    "nisslTransforms  : TransformsList = learnTranslation.run(nissl.sel({Axes.CH: 0, Axes.X: (0, 3000), Axes.Y: (0, 5000)}))"
   ]
  },
  {
   "cell_type": "code",
   "execution_count": null,
   "metadata": {},
   "outputs": [],
   "source": [
    "os.remove(\"/home/nomi/Desktop/starfish/experiment/pRegistrations.json\")\n",
    "os.remove(\"/home/nomi/Desktop/starfish/experiment/nRegistrations.json\")\n",
    "primaryTransforms.to_json(\"/home/nomi/Desktop/starfish/experiment/pRegistrations.json\")\n",
    "nisslTransforms.to_json(\"/home/nomi/Desktop/starfish/experiment/nRegistrations.json\")"
   ]
  },
  {
   "cell_type": "code",
   "execution_count": 5,
   "metadata": {},
   "outputs": [],
   "source": [
    "primaryTransforms = TransformsList.from_json(\"/home/nomi/Desktop/starfish/experiment/pRegistrations.json\")\n",
    "# nisslTransforms = TransformsList.from_json(\"/home/nomi/Desktop/starfish/experiment/nRegistrations.json\")"
   ]
  },
  {
   "cell_type": "code",
   "execution_count": 6,
   "metadata": {},
   "outputs": [
    {
     "name": "stdout",
     "output_type": "stream",
     "text": [
      "[array([660., 425.]), array([1659.,  215.]), array([1660.,  215.]), array([825., 377.]), array([715., 675.]), array([769., 373.])]\n"
     ]
    }
   ],
   "source": [
    "print([t[2].translation for t in primaryTransforms.transforms])\n",
    "# print([t[2].translation for t in nisslTransforms.transforms])"
   ]
  },
  {
   "cell_type": "code",
   "execution_count": 7,
   "metadata": {},
   "outputs": [
    {
     "name": "stderr",
     "output_type": "stream",
     "text": [
      "100%|██████████| 30/30 [00:24<00:00,  2.77it/s]\n"
     ]
    }
   ],
   "source": [
    "primaryRegistered: ImageStack = ApplyTransform.Warp().run(primary, primaryTransforms, in_place=False, verbose=True)\n",
    "# nisslRegistered  : ImageStack = ApplyTransform.Warp().run(nissl, nisslTransforms, in_place=False, verbose=True)"
   ]
  },
  {
   "cell_type": "code",
   "execution_count": 8,
   "metadata": {},
   "outputs": [
    {
     "name": "stderr",
     "output_type": "stream",
     "text": [
      "100%|██████████| 2/2 [00:02<00:00,  1.34s/it]\n"
     ]
    },
    {
     "data": {
      "image/png": "[encoded data removed]",
      "text/plain": [
       "<Figure size 432x288 with 7 Axes>"
      ]
     },
     "metadata": {
      "needs_background": "light"
     },
     "output_type": "display_data"
    }
   ],
   "source": [
    "%gui qt\n",
    "f, axes = plt.subplots(ncols=7)\n",
    "imshow_plane(nissl, ax=axes[0], sel={Axes.CH: 0, \n",
    "                                               Axes.X: (1600, 1700), Axes.Y: (470,570)\n",
    "                                              })\n",
    "for i in range(6):\n",
    "    imshow_plane(primaryRegistered, ax=axes[i+1], sel={Axes.CH: 0, Axes.ROUND: i, \n",
    "                                                       Axes.X: (1600, 1700), Axes.Y: (470,570)\n",
    "                                                      })\n",
    "f.tight_layout()"
   ]
  },
  {
   "cell_type": "code",
   "execution_count": null,
   "metadata": {},
   "outputs": [],
   "source": [
    "%gui qt\n",
    "f, axes = plt.subplot s(ncols=7)\n",
    "imshow_plane(nissl, ax=axes[0], sel={Axes.CH: 0, \n",
    "                                               Axes.X: (1600, 1700), Axes.Y: (470,570)\n",
    "                                              })\n",
    "for i in range(6):\n",
    "    imshow_plane(primaryRegistered, ax=axes[i+1], sel={Axes.CH: 0, Axes.ROUND: i, \n",
    "                                                       Axes.X: (1600, 1700), Axes.Y: (470,570)\n",
    "                                                      })\n",
    "f.tight_layout()"
   ]
  },
  {
   "cell_type": "code",
   "execution_count": null,
   "metadata": {},
   "outputs": [],
   "source": [
    "%gui qt\n",
    "f, axes = plt.subplots(ncols=7)\n",
    "imshow_plane(nissl, ax=axes[0], sel={Axes.CH: 0, \n",
    "                                               Axes.X: (1600, 1700), Axes.Y: (470,570)\n",
    "                                              })\n",
    "for i in range(6):\n",
    "    imshow_plane(primaryRegistered, ax=axes[i+1], sel={Axes.CH: 0, Axes.ROUND: i, \n",
    "                                                       Axes.X: (1600, 1700), Axes.Y: (470,570)\n",
    "                                                      })\n",
    "f.tight_layout()"
   ]
  },
  {
   "cell_type": "markdown",
   "metadata": {},
   "source": [
    "## Apply Filters\n",
    "Applying a bandpass and Gaussian low pass filters interleaved with clip filters."
   ]
  },
  {
   "cell_type": "code",
   "execution_count": 7,
   "metadata": {},
   "outputs": [
    {
     "name": "stderr",
     "output_type": "stream",
     "text": [
      "\r",
      "  0%|          | 0/30 [00:00<?, ?it/s]"
     ]
    },
    {
     "name": "stdout",
     "output_type": "stream",
     "text": [
      "Applying First Clip...\n"
     ]
    },
    {
     "name": "stderr",
     "output_type": "stream",
     "text": [
      "100%|██████████| 30/30 [00:16<00:00,  2.52it/s]\n",
      "30it [00:08,  3.47it/s]\n",
      "0it [00:00, ?it/s]"
     ]
    },
    {
     "name": "stdout",
     "output_type": "stream",
     "text": [
      "Applying Bandpass...\n"
     ]
    },
    {
     "name": "stderr",
     "output_type": "stream",
     "text": [
      "30it [00:46,  1.99s/it]\n",
      "0it [00:00, ?it/s]"
     ]
    },
    {
     "name": "stdout",
     "output_type": "stream",
     "text": [
      "Applying Second Clip...\n"
     ]
    },
    {
     "name": "stderr",
     "output_type": "stream",
     "text": [
      "30it [00:05,  5.43it/s]\n"
     ]
    },
    {
     "name": "stdout",
     "output_type": "stream",
     "text": [
      "Applying Gaussian Low Pass...\n"
     ]
    },
    {
     "name": "stderr",
     "output_type": "stream",
     "text": [
      "\r",
      "0it [00:00, ?it/s]"
     ]
    },
    {
     "name": "stdout",
     "output_type": "stream",
     "text": [
      "Applying Final Clips...\n"
     ]
    },
    {
     "name": "stderr",
     "output_type": "stream",
     "text": [
      "30it [00:06,  4.44it/s]\n",
      "30it [00:05,  5.97it/s]\n"
     ]
    }
   ],
   "source": [
    "def preprocess_fov(primary_fov_imagestack: ImageStack,\n",
    "                  n_processes: Optional[int] = None,\n",
    "                  is_volume: Optional[bool] = False) -> ImageStack:\n",
    "   \"\"\"Preprocess a Starfish field of view image stack in preparation for\n",
    "   spot/pixel finding.\n",
    "\n",
    "   NOTE: This preprocessing pipeline processes imagestacks in place!\n",
    "\n",
    "   Args:\n",
    "       primary_fov_imagestack (ImageStack): A starfish FOV Imagestack\n",
    "       n_processes (Optional[int]): Number of processes to use for\n",
    "           preprocessing steps. If None, uses the output of os.cpu_count().\n",
    "           Defaults to None.\n",
    "\n",
    "   Returns:\n",
    "       ImageStack: A preprocessed starfish imagestack.\n",
    "   \"\"\"\n",
    "   print(\"Applying First Clip...\")\n",
    "   first_clip = Filter.ClipPercentileToZero(p_min=75, p_max=100,\n",
    "                                            is_volume=is_volume)\n",
    "   first_clip.run(primary_fov_imagestack, in_place=True, verbose=True,\n",
    "                  n_processes=n_processes)\n",
    "\n",
    "   print(\"Applying Bandpass...\")\n",
    "   bpass = Filter.Bandpass(lshort=0.5, llong=7, threshold=1/(1<<16-1),\n",
    "                           is_volume=is_volume)\n",
    "   bpass.run(primary_fov_imagestack, in_place=True, verbose=True,\n",
    "             n_processes=n_processes)\n",
    "\n",
    "   print(\"Applying Second Clip...\")\n",
    "   second_clip = Filter.ClipValueToZero(v_min=1/(1<<16-1), is_volume=is_volume)\n",
    "   second_clip.run(primary_fov_imagestack, in_place=True, verbose=True,\n",
    "                   n_processes=n_processes)\n",
    "\n",
    "   print(\"Applying Gaussian Low Pass...\")\n",
    "   z_gauss_filter = Filter.GaussianLowPass(sigma=(1, 0, 0), is_volume=True)\n",
    "   z_gauss_filter.run(primary_fov_imagestack, in_place=True,\n",
    "                      n_processes=n_processes)\n",
    "\n",
    "   print(\"Applying Final Clips...\")\n",
    "   final_percent_clip = Filter.ClipPercentileToZero(p_min=90, min_coeff=1.75)\n",
    "   final_percent_clip.run(primary_fov_imagestack, in_place=True, verbose=True,\n",
    "                          n_processes=n_processes)\n",
    "\n",
    "   final_value_clip = Filter.ClipValueToZero(v_max=1000/(1<<16-1))\n",
    "   final_value_clip.run(primary_fov_imagestack, in_place=True, verbose=True,\n",
    "                        n_processes=n_processes)\n",
    "\n",
    "   return primary_fov_imagestack\n",
    "\n",
    "primaryRegistered: ImageStack = preprocess_fov(ImageStack.from_numpy(primaryRegistered.xarray.values), n_processes=22)"
   ]
  },
  {
   "cell_type": "markdown",
   "metadata": {},
   "source": [
    "## Find Spots\n",
    "Use a local max peak finder with to automatically find the best threshold and find spots in the z-projected and filtered image. Each spot should decode to a gene since a spot in one channel corresponds to one gene."
   ]
  },
  {
   "cell_type": "code",
   "execution_count": null,
   "metadata": {
    "scrolled": true
   },
   "outputs": [
    {
     "name": "stderr",
     "output_type": "stream",
     "text": [
      "100%|██████████| 30/30 [01:29<00:00,  1.23s/it]\n",
      "  0%|          | 0/100 [00:00<?, ?it/s]"
     ]
    },
    {
     "name": "stdout",
     "output_type": "stream",
     "text": [
      "Determining optimal threshold ...\n"
     ]
    },
    {
     "name": "stderr",
     "output_type": "stream",
     "text": [
      "\r",
      "  0%|          | 0/100 [00:00<?, ?it/s]"
     ]
    },
    {
     "name": "stdout",
     "output_type": "stream",
     "text": [
      "Determining optimal threshold ...\n"
     ]
    },
    {
     "name": "stderr",
     "output_type": "stream",
     "text": [
      "\r",
      "  0%|          | 0/100 [00:00<?, ?it/s]"
     ]
    },
    {
     "name": "stdout",
     "output_type": "stream",
     "text": [
      "Determining optimal threshold ...\n"
     ]
    },
    {
     "name": "stderr",
     "output_type": "stream",
     "text": [
      "\r",
      "  0%|          | 0/100 [00:00<?, ?it/s]"
     ]
    },
    {
     "name": "stdout",
     "output_type": "stream",
     "text": [
      "Determining optimal threshold ...\n"
     ]
    },
    {
     "name": "stderr",
     "output_type": "stream",
     "text": [
      "\r",
      "  0%|          | 0/100 [00:00<?, ?it/s]"
     ]
    },
    {
     "name": "stdout",
     "output_type": "stream",
     "text": [
      "Determining optimal threshold ...\n"
     ]
    },
    {
     "name": "stderr",
     "output_type": "stream",
     "text": [
      "\r",
      "  0%|          | 0/100 [00:00<?, ?it/s]"
     ]
    },
    {
     "name": "stdout",
     "output_type": "stream",
     "text": [
      "Determining optimal threshold ...\n"
     ]
    },
    {
     "name": "stderr",
     "output_type": "stream",
     "text": [
      "  0%|          | 0/100 [00:00<?, ?it/s]"
     ]
    },
    {
     "name": "stdout",
     "output_type": "stream",
     "text": [
      "Determining optimal threshold ...\n",
      "Determining optimal threshold ...\n"
     ]
    },
    {
     "name": "stderr",
     "output_type": "stream",
     "text": [
      "\r",
      "  0%|          | 0/100 [00:00<?, ?it/s]"
     ]
    },
    {
     "name": "stdout",
     "output_type": "stream",
     "text": [
      "Determining optimal threshold ...\n"
     ]
    },
    {
     "name": "stderr",
     "output_type": "stream",
     "text": [
      "\r",
      "  0%|          | 0/100 [00:00<?, ?it/s]"
     ]
    },
    {
     "name": "stdout",
     "output_type": "stream",
     "text": [
      "Determining optimal threshold ...\n"
     ]
    },
    {
     "name": "stderr",
     "output_type": "stream",
     "text": [
      "\r",
      "  0%|          | 0/100 [00:00<?, ?it/s]"
     ]
    },
    {
     "name": "stdout",
     "output_type": "stream",
     "text": [
      "Determining optimal threshold ...\n"
     ]
    },
    {
     "name": "stderr",
     "output_type": "stream",
     "text": [
      "\r",
      "  0%|          | 0/100 [00:00<?, ?it/s]"
     ]
    },
    {
     "name": "stdout",
     "output_type": "stream",
     "text": [
      "Determining optimal threshold ...\n"
     ]
    },
    {
     "name": "stderr",
     "output_type": "stream",
     "text": [
      "\r",
      "  0%|          | 0/100 [00:00<?, ?it/s]"
     ]
    },
    {
     "name": "stdout",
     "output_type": "stream",
     "text": [
      "Determining optimal threshold ...\n"
     ]
    },
    {
     "name": "stderr",
     "output_type": "stream",
     "text": [
      "\r",
      "  0%|          | 0/100 [00:00<?, ?it/s]"
     ]
    },
    {
     "name": "stdout",
     "output_type": "stream",
     "text": [
      "Determining optimal threshold ...\n"
     ]
    },
    {
     "name": "stderr",
     "output_type": "stream",
     "text": [
      "\r",
      "  0%|          | 0/100 [00:00<?, ?it/s]"
     ]
    },
    {
     "name": "stdout",
     "output_type": "stream",
     "text": [
      "Determining optimal threshold ...\n"
     ]
    },
    {
     "name": "stderr",
     "output_type": "stream",
     "text": [
      "\r",
      "  0%|          | 0/100 [00:00<?, ?it/s]"
     ]
    },
    {
     "name": "stdout",
     "output_type": "stream",
     "text": [
      "Determining optimal threshold ...\n"
     ]
    },
    {
     "name": "stderr",
     "output_type": "stream",
     "text": [
      "\r",
      "  0%|          | 0/100 [00:00<?, ?it/s]"
     ]
    },
    {
     "name": "stdout",
     "output_type": "stream",
     "text": [
      "Determining optimal threshold ...\n"
     ]
    },
    {
     "name": "stderr",
     "output_type": "stream",
     "text": [
      "\r",
      "  0%|          | 0/100 [00:00<?, ?it/s]"
     ]
    },
    {
     "name": "stdout",
     "output_type": "stream",
     "text": [
      "Determining optimal threshold ...\n"
     ]
    },
    {
     "name": "stderr",
     "output_type": "stream",
     "text": [
      "\r",
      "  0%|          | 0/100 [00:00<?, ?it/s]"
     ]
    },
    {
     "name": "stdout",
     "output_type": "stream",
     "text": [
      "Determining optimal threshold ...\n"
     ]
    },
    {
     "name": "stderr",
     "output_type": "stream",
     "text": [
      "\r",
      "  0%|          | 0/100 [00:00<?, ?it/s]"
     ]
    },
    {
     "name": "stdout",
     "output_type": "stream",
     "text": [
      "Determining optimal threshold ...\n"
     ]
    },
    {
     "name": "stderr",
     "output_type": "stream",
     "text": [
      " 26%|██▌       | 26/100 [08:55<24:28, 19.85s/it]"
     ]
    },
    {
     "name": "stdout",
     "output_type": "stream",
     "text": [
      "Stopping early at threshold=0.009980016961844279. Number of spots fell below: 3\n"
     ]
    },
    {
     "name": "stderr",
     "output_type": "stream",
     "text": [
      " 27%|██▋       | 27/100 [09:03<23:12, 19.08s/it]"
     ]
    },
    {
     "name": "stdout",
     "output_type": "stream",
     "text": [
      "computing final spots ...\n"
     ]
    },
    {
     "name": "stderr",
     "output_type": "stream",
     "text": [
      " 43%|████▎     | 43/100 [14:59<19:37, 20.66s/it]"
     ]
    },
    {
     "name": "stdout",
     "output_type": "stream",
     "text": [
      "Stopping early at threshold=0.01955189307530721. Number of spots fell below: 3\n"
     ]
    },
    {
     "name": "stderr",
     "output_type": "stream",
     "text": [
      " 44%|████▍     | 44/100 [15:07<18:23, 19.71s/it]"
     ]
    },
    {
     "name": "stdout",
     "output_type": "stream",
     "text": [
      "computing final spots ...\n"
     ]
    },
    {
     "name": "stderr",
     "output_type": "stream",
     "text": [
      " 51%|█████     | 51/100 [17:19<17:47, 21.79s/it]"
     ]
    },
    {
     "name": "stdout",
     "output_type": "stream",
     "text": [
      "Stopping early at threshold=0.021092900347830068. Number of spots fell below: 3\n"
     ]
    },
    {
     "name": "stderr",
     "output_type": "stream",
     "text": [
      " 52%|█████▏    | 52/100 [17:24<16:03, 20.08s/it]"
     ]
    },
    {
     "name": "stdout",
     "output_type": "stream",
     "text": [
      "Stopping early at threshold=0.021092900347830068. Number of spots fell below: 3\n"
     ]
    },
    {
     "name": "stderr",
     "output_type": "stream",
     "text": [
      " 52%|█████▏    | 52/100 [17:29<15:40, 19.60s/it]"
     ]
    },
    {
     "name": "stdout",
     "output_type": "stream",
     "text": [
      "computing final spots ...\n"
     ]
    },
    {
     "name": "stderr",
     "output_type": "stream",
     "text": [
      " 51%|█████     | 51/100 [17:38<16:59, 20.80s/it]"
     ]
    },
    {
     "name": "stdout",
     "output_type": "stream",
     "text": [
      "computing final spots ...\n"
     ]
    },
    {
     "name": "stderr",
     "output_type": "stream",
     "text": [
      " 54%|█████▍    | 54/100 [18:12<16:14, 21.18s/it]"
     ]
    },
    {
     "name": "stdout",
     "output_type": "stream",
     "text": [
      "Stopping early at threshold=0.011108567693618813. Number of spots fell below: 3\n"
     ]
    },
    {
     "name": "stderr",
     "output_type": "stream",
     "text": [
      " 55%|█████▌    | 55/100 [18:29<16:05, 21.46s/it]"
     ]
    },
    {
     "name": "stdout",
     "output_type": "stream",
     "text": [
      "computing final spots ...\n"
     ]
    },
    {
     "name": "stderr",
     "output_type": "stream",
     "text": [
      " 71%|███████   | 71/100 [24:12<09:35, 19.86s/it]"
     ]
    },
    {
     "name": "stdout",
     "output_type": "stream",
     "text": [
      "Stopping early at threshold=0.1860074843421127. Number of spots fell below: 3\n"
     ]
    },
    {
     "name": "stderr",
     "output_type": "stream",
     "text": [
      " 71%|███████   | 71/100 [24:27<10:12, 21.11s/it]"
     ]
    },
    {
     "name": "stdout",
     "output_type": "stream",
     "text": [
      "computing final spots ...\n"
     ]
    },
    {
     "name": "stderr",
     "output_type": "stream",
     "text": [
      "\r",
      " 71%|███████   | 71/100 [24:27<09:28, 19.61s/it]"
     ]
    },
    {
     "name": "stdout",
     "output_type": "stream",
     "text": [
      "Stopping early at threshold=0.04666239587646542. Number of spots fell below: 3\n"
     ]
    },
    {
     "name": "stderr",
     "output_type": "stream",
     "text": [
      " 72%|███████▏  | 72/100 [24:39<09:33, 20.47s/it]"
     ]
    },
    {
     "name": "stdout",
     "output_type": "stream",
     "text": [
      "Stopping early at threshold=0.02977451411160556. Number of spots fell below: 3\n"
     ]
    },
    {
     "name": "stderr",
     "output_type": "stream",
     "text": [
      " 74%|███████▍  | 74/100 [24:43<08:26, 19.48s/it]"
     ]
    },
    {
     "name": "stdout",
     "output_type": "stream",
     "text": [
      "computing final spots ...\n"
     ]
    },
    {
     "name": "stderr",
     "output_type": "stream",
     "text": [
      " 74%|███████▍  | 74/100 [24:51<08:43, 20.14s/it]"
     ]
    },
    {
     "name": "stdout",
     "output_type": "stream",
     "text": [
      "computing final spots ...\n"
     ]
    },
    {
     "name": "stderr",
     "output_type": "stream",
     "text": [
      " 77%|███████▋  | 77/100 [25:54<07:56, 20.74s/it]"
     ]
    },
    {
     "name": "stdout",
     "output_type": "stream",
     "text": [
      "Stopping early at threshold=0.027556252223674697. Number of spots fell below: 3\n"
     ]
    },
    {
     "name": "stderr",
     "output_type": "stream",
     "text": [
      " 79%|███████▉  | 79/100 [26:09<07:12, 20.61s/it]"
     ]
    },
    {
     "name": "stdout",
     "output_type": "stream",
     "text": [
      "computing final spots ...\n"
     ]
    },
    {
     "name": "stderr",
     "output_type": "stream",
     "text": [
      " 83%|████████▎ | 83/100 [27:57<05:24, 19.07s/it]"
     ]
    },
    {
     "name": "stdout",
     "output_type": "stream",
     "text": [
      "Stopping early at threshold=0.006559838098709029. Number of spots fell below: 3\n"
     ]
    },
    {
     "name": "stderr",
     "output_type": "stream",
     "text": [
      " 83%|████████▎ | 83/100 [28:11<05:41, 20.11s/it]"
     ]
    },
    {
     "name": "stdout",
     "output_type": "stream",
     "text": [
      "computing final spots ...\n"
     ]
    },
    {
     "name": "stderr",
     "output_type": "stream",
     "text": [
      " 83%|████████▎ | 83/100 [28:31<05:41, 20.09s/it]"
     ]
    },
    {
     "name": "stdout",
     "output_type": "stream",
     "text": [
      "Stopping early at threshold=0.3385083031172704. Number of spots fell below: 3\n"
     ]
    },
    {
     "name": "stderr",
     "output_type": "stream",
     "text": [
      " 85%|████████▌ | 85/100 [28:46<05:20, 21.37s/it]"
     ]
    },
    {
     "name": "stdout",
     "output_type": "stream",
     "text": [
      "computing final spots ...\n"
     ]
    },
    {
     "name": "stderr",
     "output_type": "stream",
     "text": [
      " 88%|████████▊ | 88/100 [30:09<03:54, 19.51s/it]"
     ]
    },
    {
     "name": "stdout",
     "output_type": "stream",
     "text": [
      "Stopping early at threshold=0.01898900502257877. Number of spots fell below: 3\n"
     ]
    },
    {
     "name": "stderr",
     "output_type": "stream",
     "text": [
      " 89%|████████▉ | 89/100 [30:33<03:48, 20.80s/it]"
     ]
    },
    {
     "name": "stdout",
     "output_type": "stream",
     "text": [
      "computing final spots ...\n"
     ]
    },
    {
     "name": "stderr",
     "output_type": "stream",
     "text": [
      " 90%|█████████ | 90/100 [30:38<03:15, 19.56s/it]"
     ]
    },
    {
     "name": "stdout",
     "output_type": "stream",
     "text": [
      "Stopping early at threshold=0.08934850719842044. Number of spots fell below: 3\n"
     ]
    },
    {
     "name": "stderr",
     "output_type": "stream",
     "text": [
      " 91%|█████████ | 91/100 [30:49<02:56, 19.60s/it]"
     ]
    },
    {
     "name": "stdout",
     "output_type": "stream",
     "text": [
      "Stopping early at threshold=0.021577953031719332. Number of spots fell below: 3\n"
     ]
    },
    {
     "name": "stderr",
     "output_type": "stream",
     "text": [
      " 91%|█████████ | 91/100 [30:58<02:56, 19.59s/it]"
     ]
    },
    {
     "name": "stdout",
     "output_type": "stream",
     "text": [
      "computing final spots ...\n"
     ]
    },
    {
     "name": "stderr",
     "output_type": "stream",
     "text": [
      " 91%|█████████ | 91/100 [31:03<03:01, 20.16s/it]"
     ]
    },
    {
     "name": "stdout",
     "output_type": "stream",
     "text": [
      "computing final spots ...\n"
     ]
    },
    {
     "name": "stderr",
     "output_type": "stream",
     "text": [
      " 92%|█████████▏| 92/100 [31:27<03:04, 23.10s/it]"
     ]
    },
    {
     "name": "stdout",
     "output_type": "stream",
     "text": [
      "Stopping early at threshold=0.022319479647910957. Number of spots fell below: 3\n"
     ]
    },
    {
     "name": "stderr",
     "output_type": "stream",
     "text": [
      " 93%|█████████▎| 93/100 [31:38<02:17, 19.68s/it]\n",
      "  0%|          | 0/100 [00:00<?, ?it/s]\u001b[A"
     ]
    },
    {
     "name": "stdout",
     "output_type": "stream",
     "text": [
      "Determining optimal threshold ...\n",
      "computing final spots ...\n"
     ]
    },
    {
     "name": "stderr",
     "output_type": "stream",
     "text": [
      " 93%|█████████▎| 93/100 [31:49<02:39, 22.75s/it]"
     ]
    },
    {
     "name": "stdout",
     "output_type": "stream",
     "text": [
      "Stopping early at threshold=0.022319479647910957. Number of spots fell below: 3\n"
     ]
    },
    {
     "name": "stderr",
     "output_type": "stream",
     "text": [
      " 94%|█████████▍| 94/100 [31:58<01:59, 19.86s/it]\n",
      " 93%|█████████▎| 93/100 [32:01<02:30, 21.46s/it][A"
     ]
    },
    {
     "name": "stdout",
     "output_type": "stream",
     "text": [
      "computing final spots ...\n"
     ]
    },
    {
     "name": "stderr",
     "output_type": "stream",
     "text": [
      "\r",
      " 94%|█████████▍| 94/100 [32:06<02:07, 21.29s/it]"
     ]
    },
    {
     "name": "stdout",
     "output_type": "stream",
     "text": [
      "Stopping early at threshold=0.056118522065155434. Number of spots fell below: 3\n",
      "Stopping early at threshold=0.05653359763550036. Number of spots fell below: 3\n",
      "Stopping early at threshold=0.056118522065155434. Number of spots fell below: 3\n"
     ]
    },
    {
     "name": "stderr",
     "output_type": "stream",
     "text": [
      "\n",
      " 95%|█████████▌| 95/100 [32:29<01:48, 21.64s/it][A"
     ]
    },
    {
     "name": "stdout",
     "output_type": "stream",
     "text": [
      "computing final spots ...\n",
      "computing final spots ...\n",
      "computing final spots ...\n",
      "Stopping early at threshold=0.0330188281533092. Number of spots fell below: 3\n"
     ]
    },
    {
     "name": "stderr",
     "output_type": "stream",
     "text": [
      "\n",
      "  3%|▎         | 3/100 [01:13<37:32, 23.22s/it]\u001b[A"
     ]
    },
    {
     "name": "stdout",
     "output_type": "stream",
     "text": [
      "computing final spots ...\n"
     ]
    },
    {
     "name": "stderr",
     "output_type": "stream",
     "text": [
      "\n",
      "  4%|▍         | 4/100 [01:33<35:49, 22.39s/it]\u001b[A\n",
      "  5%|▌         | 5/100 [01:54<34:30, 21.80s/it]\u001b[A\n",
      "  6%|▌         | 6/100 [02:15<34:05, 21.76s/it]\u001b[A\n",
      "  7%|▋         | 7/100 [02:37<33:36, 21.69s/it]\u001b[A\n",
      "  8%|▊         | 8/100 [02:57<32:44, 21.35s/it]\u001b[A\n",
      "  9%|▉         | 9/100 [03:17<31:41, 20.89s/it]\u001b[A\n",
      " 10%|█         | 10/100 [03:36<30:19, 20.22s/it]\u001b[A\n",
      " 11%|█         | 11/100 [03:55<29:25, 19.84s/it]\u001b[A\n",
      " 12%|█▏        | 12/100 [04:11<27:22, 18.67s/it]\u001b[A\n",
      " 13%|█▎        | 13/100 [04:27<26:10, 18.05s/it]\u001b[A\n",
      " 14%|█▍        | 14/100 [04:49<27:37, 19.28s/it]\u001b[A\n",
      " 15%|█▌        | 15/100 [05:07<26:22, 18.61s/it]\u001b[A\n",
      " 16%|█▌        | 16/100 [05:27<26:42, 19.08s/it]\u001b[A\n",
      " 17%|█▋        | 17/100 [05:46<26:38, 19.26s/it]\u001b[A\n",
      " 18%|█▊        | 18/100 [06:07<26:45, 19.58s/it]\u001b[A\n",
      " 19%|█▉        | 19/100 [06:29<27:29, 20.37s/it]\u001b[A\n",
      " 20%|██        | 20/100 [06:48<26:34, 19.93s/it]\u001b[A\n",
      " 21%|██        | 21/100 [07:07<26:07, 19.85s/it]\u001b[A\n",
      " 22%|██▏       | 22/100 [07:28<25:53, 19.91s/it]\u001b[A\n",
      " 23%|██▎       | 23/100 [07:47<25:20, 19.75s/it]\u001b[A\n",
      " 24%|██▍       | 24/100 [08:07<25:16, 19.96s/it]\u001b[A\n",
      " 25%|██▌       | 25/100 [08:28<25:18, 20.25s/it]\u001b[A\n",
      " 26%|██▌       | 26/100 [08:45<23:46, 19.27s/it]\u001b[A\n",
      " 27%|██▋       | 27/100 [09:09<25:06, 20.63s/it]\u001b[A\n",
      " 28%|██▊       | 28/100 [09:27<23:40, 19.72s/it]\u001b[A\n",
      " 29%|██▉       | 29/100 [09:47<23:25, 19.79s/it]\u001b[A\n",
      " 30%|███       | 30/100 [10:05<22:44, 19.49s/it]\u001b[A\n",
      " 31%|███       | 31/100 [10:27<23:02, 20.04s/it]\u001b[A\n",
      " 32%|███▏      | 32/100 [10:44<21:47, 19.22s/it]\u001b[A\n",
      " 33%|███▎      | 33/100 [11:07<22:45, 20.39s/it]\u001b[A\n",
      " 34%|███▍      | 34/100 [11:26<21:55, 19.93s/it]\u001b[A\n",
      " 35%|███▌      | 35/100 [11:49<22:35, 20.85s/it]\u001b[A\n",
      " 36%|███▌      | 36/100 [12:06<20:59, 19.68s/it]\u001b[A\n",
      " 37%|███▋      | 37/100 [12:23<19:55, 18.97s/it]\u001b[A\n",
      " 38%|███▊      | 38/100 [12:40<18:49, 18.22s/it]\u001b[A\n",
      " 39%|███▉      | 39/100 [13:01<19:28, 19.16s/it]\u001b[A\n",
      " 40%|████      | 40/100 [13:20<19:01, 19.03s/it]\u001b[A\n",
      " 41%|████      | 41/100 [13:42<19:39, 19.99s/it]\u001b[A\n",
      " 42%|████▏     | 42/100 [14:05<20:16, 20.98s/it]\u001b[A\n",
      " 43%|████▎     | 43/100 [14:25<19:29, 20.52s/it]\u001b[A\n",
      " 44%|████▍     | 44/100 [14:43<18:23, 19.70s/it]\u001b[A\n",
      " 45%|████▌     | 45/100 [15:08<19:31, 21.31s/it]\u001b[A\n",
      " 46%|████▌     | 46/100 [15:25<17:59, 19.99s/it]\u001b[A\n",
      " 47%|████▋     | 47/100 [15:47<18:24, 20.85s/it]\u001b[A\n",
      " 48%|████▊     | 48/100 [16:04<16:51, 19.46s/it]\u001b[A\n",
      " 49%|████▉     | 49/100 [16:28<17:43, 20.85s/it]\u001b[A\n",
      " 50%|█████     | 50/100 [16:47<16:51, 20.23s/it]\u001b[A\n",
      " 51%|█████     | 51/100 [17:04<15:45, 19.29s/it]\u001b[A\n",
      " 52%|█████▏    | 52/100 [17:21<15:04, 18.85s/it]\u001b[A\n",
      " 53%|█████▎    | 53/100 [17:38<14:14, 18.17s/it]\u001b[A\n",
      " 54%|█████▍    | 54/100 [17:54<13:29, 17.60s/it]\u001b[A\n",
      " 55%|█████▌    | 55/100 [18:16<14:13, 18.96s/it]\u001b[A\n",
      " 56%|█████▌    | 56/100 [18:38<14:22, 19.60s/it]\u001b[A\n",
      " 57%|█████▋    | 57/100 [18:56<13:50, 19.31s/it]\u001b[A\n",
      " 58%|█████▊    | 58/100 [19:16<13:39, 19.52s/it]\u001b[A\n",
      " 59%|█████▉    | 59/100 [19:36<13:26, 19.67s/it]\u001b[A\n",
      " 60%|██████    | 60/100 [19:53<12:28, 18.71s/it]\u001b[A\n",
      " 61%|██████    | 61/100 [20:12<12:14, 18.84s/it]\u001b[A\n",
      " 62%|██████▏   | 62/100 [20:30<11:48, 18.63s/it]\u001b[A\n",
      " 63%|██████▎   | 63/100 [20:50<11:46, 19.10s/it]\u001b[A\n",
      " 64%|██████▍   | 64/100 [21:10<11:39, 19.42s/it]\u001b[A\n",
      " 65%|██████▌   | 65/100 [21:27<10:49, 18.56s/it]\u001b[A\n",
      " 66%|██████▌   | 66/100 [21:46<10:35, 18.68s/it]\u001b[A\n",
      " 67%|██████▋   | 67/100 [22:06<10:30, 19.10s/it]\u001b[A\n",
      " 68%|██████▊   | 68/100 [22:26<10:22, 19.46s/it]\u001b[A\n",
      " 69%|██████▉   | 69/100 [22:44<09:47, 18.96s/it]\u001b[A\n",
      " 70%|███████   | 70/100 [23:07<10:05, 20.20s/it]\u001b[A\n",
      " 71%|███████   | 71/100 [23:31<10:19, 21.35s/it]\u001b[A\n",
      " 72%|███████▏  | 72/100 [23:51<09:42, 20.79s/it]\u001b[A\n",
      " 73%|███████▎  | 73/100 [24:13<09:37, 21.40s/it]\u001b[A\n",
      " 74%|███████▍  | 74/100 [24:31<08:45, 20.21s/it]\u001b[A\n",
      " 75%|███████▌  | 75/100 [24:47<07:57, 19.09s/it]\u001b[A\n",
      " 76%|███████▌  | 76/100 [25:04<07:21, 18.39s/it]\u001b[A\n",
      " 77%|███████▋  | 77/100 [25:20<06:45, 17.64s/it]\u001b[A\n",
      " 78%|███████▊  | 78/100 [25:37<06:26, 17.57s/it]\u001b[A\n",
      " 79%|███████▉  | 79/100 [25:58<06:30, 18.60s/it]\u001b[A\n",
      " 80%|████████  | 80/100 [26:13<05:51, 17.55s/it]\u001b[A\n",
      " 81%|████████  | 81/100 [26:47<07:05, 22.42s/it]\u001b[A\n",
      " 82%|████████▏ | 82/100 [27:22<07:49, 26.10s/it]\u001b[A\n",
      " 83%|████████▎ | 83/100 [27:43<06:57, 24.57s/it]\u001b[A\n",
      " 84%|████████▍ | 84/100 [27:57<05:43, 21.45s/it]\u001b[A\n",
      " 85%|████████▌ | 85/100 [28:30<06:12, 24.86s/it]\u001b[A"
     ]
    },
    {
     "name": "stdout",
     "output_type": "stream",
     "text": [
      "Stopping early at threshold=0.3385083031172704. Number of spots fell below: 3\n",
      "computing final spots ...\n"
     ]
    },
    {
     "name": "stderr",
     "output_type": "stream",
     "text": [
      "\n",
      "  0%|          | 0/100 [00:00<?, ?it/s]\u001b[A"
     ]
    },
    {
     "name": "stdout",
     "output_type": "stream",
     "text": [
      "Determining optimal threshold ...\n"
     ]
    },
    {
     "name": "stderr",
     "output_type": "stream",
     "text": [
      "\n",
      "  1%|          | 1/100 [00:20<33:11, 20.12s/it]\u001b[A\n",
      "  2%|▏         | 2/100 [00:45<35:18, 21.62s/it]\u001b[A\n",
      "  3%|▎         | 3/100 [01:05<34:17, 21.21s/it]\u001b[A\n",
      "  4%|▍         | 4/100 [01:30<35:48, 22.38s/it]\u001b[A\n",
      "  5%|▌         | 5/100 [01:51<34:29, 21.79s/it]\u001b[A\n",
      "  6%|▌         | 6/100 [02:16<35:51, 22.88s/it]\u001b[A\n",
      "  7%|▋         | 7/100 [02:42<37:02, 23.90s/it]\u001b[A\n",
      "  8%|▊         | 8/100 [03:04<35:39, 23.26s/it]\u001b[A\n",
      "  9%|▉         | 9/100 [03:29<35:53, 23.67s/it]\u001b[A\n",
      " 10%|█         | 10/100 [03:49<34:05, 22.73s/it]\u001b[A\n",
      " 11%|█         | 11/100 [04:11<33:15, 22.42s/it]\u001b[A\n",
      " 12%|█▏        | 12/100 [04:33<32:41, 22.29s/it]\u001b[A\n",
      " 13%|█▎        | 13/100 [04:54<31:42, 21.87s/it]\u001b[A\n",
      " 14%|█▍        | 14/100 [05:14<30:45, 21.46s/it]\u001b[A\n",
      " 15%|█▌        | 15/100 [05:35<30:14, 21.34s/it]\u001b[A\n",
      " 16%|█▌        | 16/100 [05:58<30:33, 21.83s/it]\u001b[A\n",
      " 17%|█▋        | 17/100 [06:20<30:18, 21.91s/it]\u001b[A\n",
      " 18%|█▊        | 18/100 [06:45<31:09, 22.80s/it]\u001b[A\n",
      " 19%|█▉        | 19/100 [07:04<29:18, 21.71s/it]\u001b[A\n",
      " 20%|██        | 20/100 [07:26<28:44, 21.55s/it]\u001b[A\n",
      " 21%|██        | 21/100 [07:46<27:56, 21.22s/it]\u001b[A\n",
      " 22%|██▏       | 22/100 [08:10<28:45, 22.13s/it]\u001b[A\n",
      " 23%|██▎       | 23/100 [08:34<28:49, 22.46s/it]\u001b[A\n",
      " 24%|██▍       | 24/100 [08:52<27:06, 21.40s/it]\u001b[A\n",
      " 25%|██▌       | 25/100 [09:17<27:56, 22.36s/it]\u001b[A\n",
      " 26%|██▌       | 26/100 [09:38<26:55, 21.83s/it]\u001b[A\n",
      " 27%|██▋       | 27/100 [09:58<25:55, 21.31s/it]\u001b[A\n",
      " 28%|██▊       | 28/100 [10:17<24:55, 20.77s/it]\u001b[A\n",
      " 29%|██▉       | 29/100 [10:38<24:41, 20.86s/it]\u001b[A\n",
      " 30%|███       | 30/100 [11:01<25:02, 21.47s/it]\u001b[A\n",
      " 31%|███       | 31/100 [11:23<24:42, 21.49s/it]\u001b[A\n",
      " 32%|███▏      | 32/100 [11:43<24:05, 21.25s/it]\u001b[A\n",
      " 33%|███▎      | 33/100 [12:06<24:00, 21.50s/it]\u001b[A\n",
      " 34%|███▍      | 34/100 [12:24<22:47, 20.71s/it]\u001b[A\n",
      " 35%|███▌      | 35/100 [12:44<22:08, 20.44s/it]\u001b[A\n",
      " 36%|███▌      | 36/100 [13:08<22:46, 21.35s/it]\u001b[A\n",
      " 37%|███▋      | 37/100 [13:27<21:50, 20.81s/it]\u001b[A"
     ]
    },
    {
     "name": "stdout",
     "output_type": "stream",
     "text": [
      "Stopping early at threshold=0.010464760258492798. Number of spots fell below: 3\n",
      "computing final spots ...\n"
     ]
    },
    {
     "name": "stderr",
     "output_type": "stream",
     "text": [
      "\n",
      "  0%|          | 0/100 [00:00<?, ?it/s]\u001b[A"
     ]
    },
    {
     "name": "stdout",
     "output_type": "stream",
     "text": [
      "Determining optimal threshold ...\n"
     ]
    },
    {
     "name": "stderr",
     "output_type": "stream",
     "text": [
      "\n",
      "  1%|          | 1/100 [00:19<31:29, 19.09s/it]\u001b[A\n",
      "  2%|▏         | 2/100 [00:38<31:26, 19.25s/it]\u001b[A\n",
      "  3%|▎         | 3/100 [00:56<30:34, 18.91s/it]\u001b[A\n",
      "  4%|▍         | 4/100 [01:18<31:41, 19.81s/it]\u001b[A\n",
      "  5%|▌         | 5/100 [01:40<32:08, 20.30s/it]\u001b[A\n",
      "  6%|▌         | 6/100 [01:59<31:24, 20.05s/it]\u001b[A\n",
      "  7%|▋         | 7/100 [02:18<30:43, 19.82s/it]\u001b[A\n",
      "  8%|▊         | 8/100 [02:40<31:12, 20.35s/it]\u001b[A\n",
      "  9%|▉         | 9/100 [02:58<29:50, 19.67s/it]\u001b[A\n",
      " 10%|█         | 10/100 [03:16<28:52, 19.25s/it]\u001b[A\n",
      " 11%|█         | 11/100 [03:37<29:20, 19.78s/it]\u001b[A\n",
      " 12%|█▏        | 12/100 [04:00<30:04, 20.50s/it]\u001b[A\n",
      " 13%|█▎        | 13/100 [04:19<29:25, 20.30s/it]\u001b[A\n",
      " 14%|█▍        | 14/100 [04:41<29:29, 20.58s/it]\u001b[A\n",
      " 15%|█▌        | 15/100 [04:58<27:45, 19.59s/it]\u001b[A\n",
      " 16%|█▌        | 16/100 [05:18<27:43, 19.80s/it]\u001b[A\n",
      " 17%|█▋        | 17/100 [05:40<28:00, 20.25s/it]\u001b[A\n",
      " 18%|█▊        | 18/100 [06:00<27:50, 20.37s/it]\u001b[A\n",
      " 19%|█▉        | 19/100 [06:20<27:20, 20.26s/it]\u001b[A\n",
      "  0%|          | 0/100 [00:00<?, ?it/s]\u001b[A"
     ]
    },
    {
     "name": "stdout",
     "output_type": "stream",
     "text": [
      "Determining optimal threshold ...\n"
     ]
    },
    {
     "name": "stderr",
     "output_type": "stream",
     "text": [
      "\n",
      " 20%|██        | 20/100 [06:39<26:29, 19.87s/it]\u001b[A\n",
      "  1%|          | 1/100 [00:20<33:57, 20.58s/it]\u001b[A\n",
      " 21%|██        | 21/100 [06:57<25:21, 19.26s/it]\u001b[A\n",
      "  2%|▏         | 2/100 [00:42<34:03, 20.85s/it]\u001b[A\n",
      " 22%|██▏       | 22/100 [07:16<24:58, 19.21s/it]\u001b[A\n",
      "  3%|▎         | 3/100 [01:01<33:02, 20.43s/it]\u001b[A\n",
      "  0%|          | 0/100 [00:00<?, ?it/s]\u001b[A"
     ]
    },
    {
     "name": "stdout",
     "output_type": "stream",
     "text": [
      "Determining optimal threshold ...\n"
     ]
    },
    {
     "name": "stderr",
     "output_type": "stream",
     "text": [
      "\n",
      " 23%|██▎       | 23/100 [07:33<23:56, 18.65s/it]\u001b[A\n",
      "  4%|▍         | 4/100 [01:21<32:39, 20.41s/it]\u001b[A\n",
      "  1%|          | 1/100 [00:21<35:16, 21.38s/it]\u001b[A\n",
      " 24%|██▍       | 24/100 [07:55<24:43, 19.52s/it]\u001b[A\n",
      "  5%|▌         | 5/100 [01:42<32:29, 20.52s/it]\u001b[A\n",
      "  2%|▏         | 2/100 [00:42<35:00, 21.43s/it]\u001b[A\n",
      " 25%|██▌       | 25/100 [08:13<23:59, 19.19s/it]\u001b[A\n",
      "  6%|▌         | 6/100 [02:02<31:54, 20.37s/it]\u001b[A\n",
      "  3%|▎         | 3/100 [01:03<34:08, 21.11s/it]\u001b[A\n",
      " 26%|██▌       | 26/100 [08:33<23:43, 19.24s/it]\u001b[A\n",
      "  7%|▋         | 7/100 [02:23<31:49, 20.53s/it]\u001b[A\n",
      "  4%|▍         | 4/100 [01:24<33:49, 21.14s/it]\u001b[A\n",
      " 27%|██▋       | 27/100 [08:53<23:54, 19.66s/it]\u001b[A\n",
      "  5%|▌         | 5/100 [01:44<32:48, 20.72s/it]\u001b[A\n",
      "  8%|▊         | 8/100 [02:47<33:11, 21.65s/it]\u001b[A\n",
      " 28%|██▊       | 28/100 [09:17<24:51, 20.72s/it]\u001b[A\n",
      "  6%|▌         | 6/100 [02:05<32:40, 20.85s/it]\u001b[A\n",
      "  9%|▉         | 9/100 [03:09<32:44, 21.58s/it]\u001b[A\n",
      " 29%|██▉       | 29/100 [09:39<25:03, 21.18s/it]\u001b[A\n",
      "  7%|▋         | 7/100 [02:27<32:50, 21.19s/it]\u001b[A\n",
      " 10%|█         | 10/100 [03:32<33:14, 22.16s/it]\u001b[A\n",
      " 30%|███       | 30/100 [09:58<24:03, 20.62s/it]\u001b[A\n",
      "  8%|▊         | 8/100 [02:47<32:10, 20.98s/it]\u001b[A\n",
      " 11%|█         | 11/100 [03:53<32:10, 21.69s/it]\u001b[A\n",
      " 31%|███       | 31/100 [10:21<24:31, 21.33s/it]\u001b[A\n",
      "  9%|▉         | 9/100 [03:07<31:12, 20.58s/it]\u001b[A\n",
      " 12%|█▏        | 12/100 [04:12<30:51, 21.04s/it]\u001b[A\n",
      " 32%|███▏      | 32/100 [10:44<24:38, 21.74s/it]\u001b[A\n",
      " 10%|█         | 10/100 [03:26<30:16, 20.19s/it]\u001b[A\n",
      " 13%|█▎        | 13/100 [04:35<31:15, 21.56s/it]\u001b[A\n",
      " 33%|███▎      | 33/100 [11:03<23:24, 20.96s/it]\u001b[A\n",
      " 11%|█         | 11/100 [03:49<31:12, 21.04s/it]\u001b[A\n",
      " 14%|█▍        | 14/100 [04:59<31:46, 22.17s/it]\u001b[A\n",
      " 34%|███▍      | 34/100 [11:25<23:15, 21.14s/it]\u001b[A\n",
      " 12%|█▏        | 12/100 [04:11<31:01, 21.15s/it]\u001b[A\n",
      " 15%|█▌        | 15/100 [05:17<29:55, 21.12s/it]\u001b[A\n",
      " 35%|███▌      | 35/100 [11:44<22:15, 20.55s/it]\u001b[A\n",
      " 16%|█▌        | 16/100 [05:38<29:11, 20.85s/it]\u001b[A\n",
      " 13%|█▎        | 13/100 [04:35<32:06, 22.15s/it]\u001b[A\n",
      " 36%|███▌      | 36/100 [12:04<21:42, 20.35s/it]\u001b[A\n",
      " 14%|█▍        | 14/100 [04:56<31:22, 21.88s/it]\u001b[A\n",
      " 17%|█▋        | 17/100 [06:02<30:25, 21.99s/it]\u001b[A\n",
      " 37%|███▋      | 37/100 [12:26<21:52, 20.83s/it]\u001b[A\n",
      " 15%|█▌        | 15/100 [05:17<30:32, 21.56s/it]\u001b[A\n",
      " 18%|█▊        | 18/100 [06:24<29:52, 21.86s/it]\u001b[A\n",
      " 38%|███▊      | 38/100 [12:46<21:27, 20.76s/it]\u001b[A\n",
      " 16%|█▌        | 16/100 [05:40<30:51, 22.04s/it]\u001b[A\n",
      " 39%|███▉      | 39/100 [13:09<21:37, 21.28s/it]\u001b[A\n",
      " 19%|█▉        | 19/100 [06:49<30:42, 22.74s/it]\u001b[A\n",
      " 17%|█▋        | 17/100 [06:06<32:08, 23.23s/it]\u001b[A\n",
      " 20%|██        | 20/100 [07:10<29:52, 22.41s/it]\u001b[A\n",
      " 40%|████      | 40/100 [13:32<21:58, 21.97s/it]\u001b[A\n",
      " 41%|████      | 41/100 [13:51<20:32, 20.89s/it]\u001b[A\n",
      " 21%|██        | 21/100 [07:30<28:17, 21.48s/it]\u001b[A\n",
      " 18%|█▊        | 18/100 [06:32<32:35, 23.85s/it]\u001b[A\n",
      " 22%|██▏       | 22/100 [07:51<27:46, 21.37s/it]\u001b[A\n",
      " 42%|████▏     | 42/100 [14:13<20:33, 21.26s/it]\u001b[A\n",
      " 19%|█▉        | 19/100 [06:54<31:21, 23.23s/it]\u001b[A\n",
      " 43%|████▎     | 43/100 [14:31<19:21, 20.38s/it]\u001b[A\n",
      " 23%|██▎       | 23/100 [08:11<26:59, 21.03s/it]\u001b[A\n",
      " 20%|██        | 20/100 [07:13<29:34, 22.18s/it]\u001b[A\n",
      " 44%|████▍     | 44/100 [14:49<18:18, 19.62s/it]\u001b[A\n",
      " 24%|██▍       | 24/100 [08:35<27:40, 21.85s/it]\u001b[A\n",
      " 21%|██        | 21/100 [07:34<28:28, 21.62s/it]\u001b[A\n",
      " 45%|████▌     | 45/100 [15:09<18:07, 19.77s/it]\u001b[A\n",
      " 22%|██▏       | 22/100 [07:52<26:48, 20.62s/it]\u001b[A\n",
      " 25%|██▌       | 25/100 [08:58<27:53, 22.31s/it]\u001b[A\n",
      " 46%|████▌     | 46/100 [15:27<17:20, 19.26s/it]\u001b[A\n",
      " 23%|██▎       | 23/100 [08:13<26:47, 20.87s/it]\u001b[A\n",
      " 26%|██▌       | 26/100 [09:22<27:55, 22.64s/it]\u001b[A\n",
      " 47%|████▋     | 47/100 [15:46<16:55, 19.16s/it]\u001b[A\n",
      " 24%|██▍       | 24/100 [08:31<25:02, 19.77s/it]\u001b[A\n",
      " 27%|██▋       | 27/100 [09:41<26:30, 21.79s/it]\u001b[A\n",
      " 48%|████▊     | 48/100 [16:07<17:04, 19.70s/it]\u001b[A\n",
      " 25%|██▌       | 25/100 [08:48<23:47, 19.04s/it]\u001b[A\n",
      " 28%|██▊       | 28/100 [10:04<26:27, 22.05s/it]\u001b[A\n",
      " 49%|████▉     | 49/100 [16:26<16:35, 19.52s/it]\u001b[A\n",
      " 26%|██▌       | 26/100 [09:07<23:37, 19.15s/it]\u001b[A\n",
      " 50%|█████     | 50/100 [16:45<16:13, 19.48s/it]\u001b[A\n",
      " 29%|██▉       | 29/100 [10:27<26:23, 22.30s/it]\u001b[A\n",
      " 27%|██▋       | 27/100 [09:29<24:06, 19.82s/it]\u001b[A\n",
      " 51%|█████     | 51/100 [17:08<16:44, 20.50s/it]\u001b[A\n",
      " 30%|███       | 30/100 [10:49<25:59, 22.28s/it]\u001b[A\n",
      " 28%|██▊       | 28/100 [09:52<25:04, 20.89s/it]\u001b[A\n",
      " 52%|█████▏    | 52/100 [17:27<15:56, 19.93s/it]\u001b[A\n",
      " 31%|███       | 31/100 [11:10<25:13, 21.94s/it]\u001b[A\n",
      " 29%|██▉       | 29/100 [10:12<24:31, 20.72s/it]\u001b[A\n",
      " 53%|█████▎    | 53/100 [17:48<15:49, 20.20s/it]\u001b[A\n",
      " 32%|███▏      | 32/100 [11:31<24:20, 21.48s/it]\u001b[A\n",
      " 30%|███       | 30/100 [10:32<23:52, 20.46s/it]\u001b[A\n",
      " 54%|█████▍    | 54/100 [18:07<15:09, 19.78s/it]\u001b[A\n",
      " 33%|███▎      | 33/100 [11:53<24:25, 21.87s/it]\u001b[A\n",
      " 31%|███       | 31/100 [10:56<24:32, 21.33s/it]\u001b[A\n",
      " 55%|█████▌    | 55/100 [18:29<15:32, 20.71s/it]\u001b[A\n",
      " 34%|███▍      | 34/100 [12:13<23:26, 21.31s/it]\u001b[A\n",
      " 32%|███▏      | 32/100 [11:14<23:06, 20.38s/it]\u001b[A\n",
      " 56%|█████▌    | 56/100 [18:51<15:18, 20.87s/it]\u001b[A\n",
      " 35%|███▌      | 35/100 [12:35<23:03, 21.28s/it]\u001b[A\n",
      " 33%|███▎      | 33/100 [11:32<22:08, 19.83s/it]\u001b[A\n",
      " 57%|█████▋    | 57/100 [19:10<14:43, 20.55s/it]\u001b[A\n",
      " 34%|███▍      | 34/100 [11:55<22:37, 20.56s/it]\u001b[A\n",
      " 36%|███▌      | 36/100 [12:58<23:18, 21.85s/it]\u001b[A\n",
      " 58%|█████▊    | 58/100 [19:29<13:57, 19.94s/it]\u001b[A\n",
      " 35%|███▌      | 35/100 [12:14<21:59, 20.30s/it]\u001b[A\n",
      " 37%|███▋      | 37/100 [13:20<22:57, 21.86s/it]\u001b[A\n",
      " 59%|█████▉    | 59/100 [19:48<13:30, 19.77s/it]\u001b[A\n",
      " 36%|███▌      | 36/100 [12:32<20:45, 19.46s/it]\u001b[A\n",
      " 38%|███▊      | 38/100 [13:41<22:30, 21.78s/it]\u001b[A\n",
      " 60%|██████    | 60/100 [20:08<13:05, 19.63s/it]\u001b[A\n",
      " 37%|███▋      | 37/100 [12:53<20:51, 19.87s/it]\u001b[A\n",
      " 39%|███▉      | 39/100 [14:05<22:37, 22.26s/it]\u001b[A\n",
      " 61%|██████    | 61/100 [20:27<12:39, 19.48s/it]\u001b[A\n",
      " 38%|███▊      | 38/100 [13:11<20:11, 19.55s/it]\u001b[A\n",
      " 40%|████      | 40/100 [14:23<20:57, 20.96s/it]\u001b[A\n",
      " 62%|██████▏   | 62/100 [20:47<12:27, 19.66s/it]\u001b[A\n",
      " 39%|███▉      | 39/100 [13:31<19:45, 19.44s/it]\u001b[A\n",
      " 41%|████      | 41/100 [14:43<20:27, 20.80s/it]\u001b[A\n",
      " 63%|██████▎   | 63/100 [21:08<12:23, 20.09s/it]\u001b[A\n",
      " 40%|████      | 40/100 [13:51<19:51, 19.86s/it]\u001b[A\n",
      " 42%|████▏     | 42/100 [15:02<19:28, 20.15s/it]\u001b[A\n",
      " 64%|██████▍   | 64/100 [21:29<12:08, 20.25s/it]\u001b[A\n",
      " 41%|████      | 41/100 [14:10<19:16, 19.59s/it]\u001b[A\n",
      " 43%|████▎     | 43/100 [15:24<19:42, 20.74s/it]\u001b[A\n",
      " 65%|██████▌   | 65/100 [21:47<11:29, 19.71s/it]\u001b[A\n",
      " 42%|████▏     | 42/100 [14:30<19:00, 19.66s/it]\u001b[A\n",
      " 44%|████▍     | 44/100 [15:41<18:28, 19.80s/it]\u001b[A\n",
      " 66%|██████▌   | 66/100 [22:06<10:59, 19.39s/it]\u001b[A\n",
      " 43%|████▎     | 43/100 [14:49<18:27, 19.44s/it]\u001b[A\n",
      " 45%|████▌     | 45/100 [16:02<18:19, 20.00s/it]\u001b[A"
     ]
    },
    {
     "name": "stdout",
     "output_type": "stream",
     "text": [
      "Stopping early at threshold=0.016591643293698628. Number of spots fell below: 3\n"
     ]
    },
    {
     "name": "stderr",
     "output_type": "stream",
     "text": [
      "\n",
      " 44%|████▍     | 44/100 [15:11<18:54, 20.25s/it]\u001b[A\n",
      " 46%|████▌     | 46/100 [16:19<17:21, 19.28s/it]\u001b[A"
     ]
    },
    {
     "name": "stdout",
     "output_type": "stream",
     "text": [
      "computing final spots ...\n"
     ]
    },
    {
     "name": "stderr",
     "output_type": "stream",
     "text": [
      "\n",
      " 45%|████▌     | 45/100 [15:34<19:17, 21.04s/it]\u001b[A\n",
      " 47%|████▋     | 47/100 [16:38<16:44, 18.95s/it]\u001b[A\n",
      " 46%|████▌     | 46/100 [15:56<19:10, 21.31s/it]\u001b[A\n",
      " 48%|████▊     | 48/100 [17:00<17:17, 19.96s/it]\u001b[A\n",
      " 47%|████▋     | 47/100 [16:18<18:56, 21.45s/it]\u001b[A\n",
      " 49%|████▉     | 49/100 [17:21<17:18, 20.36s/it]\u001b[A\n",
      " 50%|█████     | 50/100 [17:40<16:37, 19.95s/it]\u001b[A\n",
      " 48%|████▊     | 48/100 [16:41<19:02, 21.98s/it]\u001b[A\n",
      " 49%|████▉     | 49/100 [16:59<17:46, 20.91s/it]\u001b[A\n",
      " 51%|█████     | 51/100 [18:06<17:42, 21.69s/it]\u001b[A\n",
      " 50%|█████     | 50/100 [17:17<16:41, 20.03s/it]\u001b[A\n",
      " 52%|█████▏    | 52/100 [18:31<18:12, 22.77s/it]\u001b[A\n",
      " 51%|█████     | 51/100 [17:37<16:11, 19.82s/it]\u001b[A\n",
      " 53%|█████▎    | 53/100 [18:51<17:04, 21.80s/it]\u001b[A\n",
      " 52%|█████▏    | 52/100 [17:55<15:28, 19.34s/it]\u001b[A\n",
      " 54%|█████▍    | 54/100 [19:16<17:24, 22.72s/it]\u001b[A\n",
      " 53%|█████▎    | 53/100 [18:18<16:07, 20.58s/it]\u001b[A\n",
      " 55%|█████▌    | 55/100 [19:34<16:03, 21.42s/it]\u001b[A\n",
      " 54%|█████▍    | 54/100 [18:41<16:15, 21.20s/it]\u001b[A\n",
      " 56%|█████▌    | 56/100 [19:55<15:29, 21.13s/it]\u001b[A\n",
      " 55%|█████▌    | 55/100 [19:03<16:08, 21.53s/it]\u001b[A\n",
      " 57%|█████▋    | 57/100 [20:14<14:47, 20.65s/it]\u001b[A\n",
      " 56%|█████▌    | 56/100 [19:24<15:31, 21.16s/it]\u001b[A\n",
      " 58%|█████▊    | 58/100 [20:36<14:46, 21.11s/it]\u001b[A\n",
      " 57%|█████▋    | 57/100 [19:46<15:26, 21.56s/it]\u001b[A\n",
      " 59%|█████▉    | 59/100 [20:58<14:30, 21.23s/it]\u001b[A\n",
      " 58%|█████▊    | 58/100 [20:08<15:05, 21.55s/it]\u001b[A\n",
      " 60%|██████    | 60/100 [21:18<13:59, 20.98s/it]\u001b[A\n",
      " 59%|█████▉    | 59/100 [20:31<15:02, 22.02s/it]\u001b[A\n",
      " 61%|██████    | 61/100 [21:39<13:36, 20.92s/it]\u001b[A\n",
      " 60%|██████    | 60/100 [20:50<14:11, 21.30s/it]\u001b[A\n",
      " 62%|██████▏   | 62/100 [22:03<13:48, 21.79s/it]\u001b[A\n",
      " 61%|██████    | 61/100 [21:09<13:13, 20.35s/it]\u001b[A\n",
      " 63%|██████▎   | 63/100 [22:23<13:14, 21.46s/it]\u001b[A\n",
      " 62%|██████▏   | 62/100 [21:27<12:31, 19.78s/it]\u001b[A\n",
      " 64%|██████▍   | 64/100 [22:44<12:38, 21.07s/it]\u001b[A\n",
      " 63%|██████▎   | 63/100 [21:49<12:39, 20.53s/it]\u001b[A\n",
      " 65%|██████▌   | 65/100 [23:03<11:56, 20.47s/it]\u001b[A\n",
      " 64%|██████▍   | 64/100 [22:10<12:22, 20.63s/it]\u001b[A\n",
      " 66%|██████▌   | 66/100 [23:22<11:24, 20.14s/it]\u001b[A\n",
      " 65%|██████▌   | 65/100 [22:29<11:45, 20.17s/it]\u001b[A\n",
      " 67%|██████▋   | 67/100 [23:46<11:42, 21.29s/it]\u001b[A\n",
      " 66%|██████▌   | 66/100 [22:51<11:41, 20.63s/it]\u001b[A\n",
      " 68%|██████▊   | 68/100 [24:06<11:06, 20.82s/it]\u001b[A\n",
      " 67%|██████▋   | 67/100 [23:10<11:03, 20.12s/it]\u001b[A\n",
      " 69%|██████▉   | 69/100 [24:24<10:25, 20.18s/it]\u001b[A\n",
      " 68%|██████▊   | 68/100 [23:31<10:56, 20.51s/it]\u001b[A\n",
      " 70%|███████   | 70/100 [24:44<10:02, 20.07s/it]\u001b[A\n",
      " 69%|██████▉   | 69/100 [23:50<10:16, 19.89s/it]\u001b[A\n",
      " 71%|███████   | 71/100 [25:06<09:54, 20.52s/it]\u001b[A\n",
      " 70%|███████   | 70/100 [24:09<09:48, 19.61s/it]\u001b[A\n",
      " 72%|███████▏  | 72/100 [25:26<09:32, 20.45s/it]\u001b[A\n",
      " 71%|███████   | 71/100 [24:27<09:13, 19.09s/it]\u001b[A\n",
      " 73%|███████▎  | 73/100 [25:46<09:04, 20.17s/it]\u001b[A\n",
      " 72%|███████▏  | 72/100 [24:48<09:17, 19.91s/it]\u001b[A\n",
      " 74%|███████▍  | 74/100 [26:04<08:29, 19.61s/it]\u001b[A\n",
      " 73%|███████▎  | 73/100 [25:06<08:41, 19.32s/it]\u001b[A\n",
      " 75%|███████▌  | 75/100 [26:22<07:56, 19.08s/it]\u001b[A\n",
      " 74%|███████▍  | 74/100 [25:23<08:03, 18.58s/it]\u001b[A\n",
      " 76%|███████▌  | 76/100 [26:43<07:54, 19.76s/it]\u001b[A\n",
      " 75%|███████▌  | 75/100 [25:46<08:14, 19.79s/it]\u001b[A\n",
      " 77%|███████▋  | 77/100 [27:03<07:34, 19.77s/it]\u001b[A\n",
      " 76%|███████▌  | 76/100 [26:07<08:04, 20.17s/it]\u001b[A\n",
      " 78%|███████▊  | 78/100 [27:22<07:09, 19.50s/it]\u001b[A\n",
      " 77%|███████▋  | 77/100 [26:28<07:49, 20.41s/it]\u001b[A\n",
      " 79%|███████▉  | 79/100 [27:44<07:08, 20.39s/it]\u001b[A\n",
      " 78%|███████▊  | 78/100 [26:50<07:42, 21.04s/it]\u001b[A\n",
      " 80%|████████  | 80/100 [28:09<07:12, 21.62s/it]\u001b[A\n",
      " 79%|███████▉  | 79/100 [27:12<07:27, 21.33s/it]\u001b[A\n",
      " 81%|████████  | 81/100 [28:31<06:53, 21.77s/it]\u001b[A"
     ]
    },
    {
     "name": "stdout",
     "output_type": "stream",
     "text": [
      "Stopping early at threshold=0.006392605198227396. Number of spots fell below: 3\n",
      "computing final spots ...\n"
     ]
    },
    {
     "name": "stderr",
     "output_type": "stream",
     "text": [
      "\n",
      " 82%|████████▏ | 82/100 [28:53<06:36, 22.03s/it]\u001b[A\n",
      " 83%|████████▎ | 83/100 [29:13<06:03, 21.41s/it]\u001b[A\n",
      " 84%|████████▍ | 84/100 [29:35<05:44, 21.52s/it]\u001b[A\n",
      " 85%|████████▌ | 85/100 [29:55<05:13, 20.87s/it]\u001b[A\n",
      " 86%|████████▌ | 86/100 [30:14<04:45, 20.41s/it]\u001b[A\n",
      " 87%|████████▋ | 87/100 [30:33<04:19, 19.96s/it]\u001b[A\n",
      " 88%|████████▊ | 88/100 [30:55<04:07, 20.61s/it]\u001b[A"
     ]
    },
    {
     "name": "stdout",
     "output_type": "stream",
     "text": [
      "Stopping early at threshold=0.5160262319776747. Number of spots fell below: 3\n",
      "computing final spots ...\n"
     ]
    },
    {
     "name": "stderr",
     "output_type": "stream",
     "text": [
      "\n",
      "  0%|          | 0/100 [00:00<?, ?it/s]\u001b[A"
     ]
    },
    {
     "name": "stdout",
     "output_type": "stream",
     "text": [
      "Determining optimal threshold ...\n"
     ]
    },
    {
     "name": "stderr",
     "output_type": "stream",
     "text": [
      "\n",
      "  1%|          | 1/100 [00:21<35:50, 21.72s/it]\u001b[A\n",
      "  2%|▏         | 2/100 [00:45<36:38, 22.44s/it]\u001b[A\n",
      "  3%|▎         | 3/100 [01:08<36:27, 22.55s/it]\u001b[A\n",
      "  4%|▍         | 4/100 [01:27<34:30, 21.57s/it]\u001b[A\n",
      "  5%|▌         | 5/100 [01:50<34:46, 21.96s/it]\u001b[A\n",
      "  6%|▌         | 6/100 [02:10<33:34, 21.43s/it]\u001b[A\n",
      "  7%|▋         | 7/100 [02:29<31:52, 20.56s/it]\u001b[A\n",
      "  8%|▊         | 8/100 [02:49<31:19, 20.43s/it]\u001b[A\n",
      "  9%|▉         | 9/100 [03:12<32:01, 21.11s/it]\u001b[A\n",
      " 10%|█         | 10/100 [03:32<31:07, 20.75s/it]\u001b[A\n",
      " 11%|█         | 11/100 [03:53<30:57, 20.87s/it]\u001b[A\n",
      " 12%|█▏        | 12/100 [04:12<29:47, 20.31s/it]\u001b[A\n",
      " 13%|█▎        | 13/100 [04:33<29:41, 20.48s/it]\u001b[A\n",
      " 14%|█▍        | 14/100 [04:54<29:47, 20.79s/it]\u001b[A\n",
      " 15%|█▌        | 15/100 [05:17<30:25, 21.47s/it]\u001b[A\n",
      " 16%|█▌        | 16/100 [05:37<29:16, 20.91s/it]\u001b[A\n",
      " 17%|█▋        | 17/100 [06:01<30:05, 21.75s/it]\u001b[A\n",
      " 18%|█▊        | 18/100 [06:24<30:28, 22.30s/it]\u001b[A\n",
      " 19%|█▉        | 19/100 [06:48<30:40, 22.73s/it]\u001b[A\n",
      " 20%|██        | 20/100 [07:07<28:48, 21.61s/it]\u001b[A\n",
      " 21%|██        | 21/100 [07:33<30:11, 22.93s/it]\u001b[A\n",
      " 22%|██▏       | 22/100 [07:55<29:16, 22.52s/it]\u001b[A\n",
      " 23%|██▎       | 23/100 [08:17<28:52, 22.49s/it]\u001b[A\n",
      " 24%|██▍       | 24/100 [08:41<28:59, 22.88s/it]\u001b[A\n",
      " 25%|██▌       | 25/100 [09:00<27:17, 21.84s/it]\u001b[A\n",
      " 26%|██▌       | 26/100 [09:22<26:59, 21.89s/it]\u001b[A\n",
      " 27%|██▋       | 27/100 [09:42<25:49, 21.23s/it]\u001b[A\n",
      " 28%|██▊       | 28/100 [09:59<23:59, 19.99s/it]\u001b[A\n",
      " 29%|██▉       | 29/100 [10:18<23:24, 19.77s/it]\u001b[A\n",
      " 30%|███       | 30/100 [10:40<23:43, 20.33s/it]\u001b[A\n",
      " 31%|███       | 31/100 [10:59<22:56, 19.95s/it]\u001b[A\n",
      " 32%|███▏      | 32/100 [11:17<22:05, 19.50s/it]\u001b[A\n",
      " 33%|███▎      | 33/100 [11:36<21:38, 19.38s/it]\u001b[A\n",
      " 34%|███▍      | 34/100 [11:57<21:36, 19.64s/it]\u001b[A\n",
      " 35%|███▌      | 35/100 [12:16<21:13, 19.59s/it]\u001b[A\n",
      " 36%|███▌      | 36/100 [12:33<19:52, 18.63s/it]\u001b[A\n",
      " 37%|███▋      | 37/100 [12:55<20:46, 19.78s/it]\u001b[A\n",
      " 38%|███▊      | 38/100 [13:16<20:55, 20.25s/it]\u001b[A\n",
      " 39%|███▉      | 39/100 [13:39<21:25, 21.07s/it]\u001b[A\n",
      " 40%|████      | 40/100 [14:00<21:00, 21.00s/it]\u001b[A\n",
      " 41%|████      | 41/100 [14:23<21:10, 21.53s/it]\u001b[A\n",
      " 42%|████▏     | 42/100 [14:44<20:30, 21.22s/it]\u001b[A\n",
      " 43%|████▎     | 43/100 [15:03<19:42, 20.75s/it]\u001b[A\n",
      " 44%|████▍     | 44/100 [15:25<19:45, 21.16s/it]\u001b[A\n",
      " 45%|████▌     | 45/100 [15:45<19:02, 20.77s/it]\u001b[A\n",
      " 46%|████▌     | 46/100 [16:07<18:53, 20.99s/it]\u001b[A\n",
      " 47%|████▋     | 47/100 [16:29<18:55, 21.43s/it]\u001b[A\n",
      " 48%|████▊     | 48/100 [16:51<18:39, 21.53s/it]\u001b[A\n",
      " 49%|████▉     | 49/100 [17:09<17:32, 20.63s/it]\u001b[A\n",
      " 50%|█████     | 50/100 [17:28<16:45, 20.11s/it]\u001b[A\n",
      " 51%|█████     | 51/100 [17:49<16:34, 20.30s/it]\u001b[A\n",
      " 52%|█████▏    | 52/100 [18:10<16:30, 20.63s/it]\u001b[A\n",
      " 53%|█████▎    | 53/100 [18:30<15:47, 20.16s/it]\u001b[A\n",
      " 54%|█████▍    | 54/100 [18:51<15:41, 20.46s/it]\u001b[A\n",
      " 55%|█████▌    | 55/100 [19:10<15:04, 20.11s/it]\u001b[A\n",
      " 56%|█████▌    | 56/100 [19:28<14:17, 19.49s/it]\u001b[A\n",
      " 57%|█████▋    | 57/100 [19:52<14:58, 20.90s/it]\u001b[A\n",
      " 58%|█████▊    | 58/100 [20:11<14:10, 20.25s/it]\u001b[A\n",
      " 59%|█████▉    | 59/100 [20:33<14:16, 20.89s/it]\u001b[A\n",
      " 60%|██████    | 60/100 [20:51<13:18, 19.95s/it]\u001b[A\n",
      " 61%|██████    | 61/100 [21:11<12:59, 20.00s/it]\u001b[A\n",
      " 62%|██████▏   | 62/100 [21:30<12:26, 19.63s/it]\u001b[A\n",
      " 63%|██████▎   | 63/100 [21:53<12:40, 20.54s/it]\u001b[A\n",
      " 64%|██████▍   | 64/100 [22:12<12:04, 20.11s/it]\u001b[A\n",
      " 65%|██████▌   | 65/100 [22:30<11:26, 19.62s/it]\u001b[A\n",
      " 66%|██████▌   | 66/100 [22:53<11:35, 20.44s/it]\u001b[A\n",
      " 67%|██████▋   | 67/100 [23:13<11:14, 20.42s/it]\u001b[A\n",
      " 68%|██████▊   | 68/100 [23:32<10:37, 19.93s/it]\u001b[A\n",
      " 69%|██████▉   | 69/100 [23:51<10:12, 19.76s/it]\u001b[A\n",
      " 70%|███████   | 70/100 [24:13<10:15, 20.51s/it]\u001b[A\n",
      " 71%|███████   | 71/100 [24:34<09:58, 20.65s/it]\u001b[A\n",
      " 72%|███████▏  | 72/100 [24:54<09:28, 20.31s/it]\u001b[A\n",
      " 73%|███████▎  | 73/100 [25:13<08:59, 19.98s/it]\u001b[A\n",
      " 74%|███████▍  | 74/100 [25:30<08:14, 19.00s/it]\u001b[A\n",
      " 75%|███████▌  | 75/100 [25:49<07:55, 19.03s/it]\u001b[A\n",
      " 76%|███████▌  | 76/100 [26:13<08:14, 20.61s/it]\u001b[A\n",
      " 77%|███████▋  | 77/100 [26:35<08:05, 21.10s/it]\u001b[A\n",
      " 78%|███████▊  | 78/100 [26:57<07:47, 21.27s/it]\u001b[A\n",
      " 79%|███████▉  | 79/100 [27:19<07:29, 21.42s/it]\u001b[A\n",
      " 80%|████████  | 80/100 [27:37<06:47, 20.37s/it]\u001b[A\n",
      " 81%|████████  | 81/100 [27:59<06:37, 20.90s/it]\u001b[A\n",
      " 82%|████████▏ | 82/100 [28:18<06:06, 20.35s/it]\u001b[A\n",
      " 83%|████████▎ | 83/100 [28:39<05:50, 20.63s/it]\u001b[A\n",
      " 84%|████████▍ | 84/100 [29:01<05:36, 21.01s/it]\u001b[A\n",
      " 85%|████████▌ | 85/100 [29:18<04:56, 19.74s/it]\u001b[A\n",
      " 86%|████████▌ | 86/100 [29:36<04:28, 19.18s/it]\u001b[A\n",
      " 87%|████████▋ | 87/100 [29:55<04:10, 19.25s/it]\u001b[A\n",
      " 88%|████████▊ | 88/100 [30:13<03:46, 18.86s/it]\u001b[A\n",
      " 89%|████████▉ | 89/100 [30:37<03:43, 20.36s/it]\u001b[A\n",
      " 90%|█████████ | 90/100 [30:56<03:20, 20.08s/it]\u001b[A\n",
      " 91%|█████████ | 91/100 [31:16<02:58, 19.84s/it]\u001b[A\n",
      " 92%|█████████▏| 92/100 [31:38<02:44, 20.51s/it]\u001b[A\n",
      " 93%|█████████▎| 93/100 [32:02<02:31, 21.68s/it]\u001b[A\n",
      " 94%|█████████▍| 94/100 [32:23<02:08, 21.40s/it]\u001b[A\n",
      " 95%|█████████▌| 95/100 [32:43<01:45, 21.03s/it]\u001b[A"
     ]
    },
    {
     "name": "stdout",
     "output_type": "stream",
     "text": [
      "Stopping early at threshold=0.09514693697594633. Number of spots fell below: 3\n",
      "computing final spots ...\n"
     ]
    },
    {
     "name": "stderr",
     "output_type": "stream",
     "text": [
      "\n",
      "\n",
      "  0%|          | 0/100 [00:00<?, ?it/s]\u001b[A\u001b[A"
     ]
    },
    {
     "name": "stdout",
     "output_type": "stream",
     "text": [
      "Determining optimal threshold ...\n"
     ]
    },
    {
     "name": "stderr",
     "output_type": "stream",
     "text": [
      "\n",
      "\n",
      "  1%|          | 1/100 [00:23<38:10, 23.13s/it]\u001b[A\u001b[A\n",
      "\n",
      "  2%|▏         | 2/100 [00:45<37:28, 22.94s/it]\u001b[A\u001b[A\n",
      "\n",
      "  3%|▎         | 3/100 [01:08<37:08, 22.98s/it]\u001b[A\u001b[A\n",
      "\n",
      "  4%|▍         | 4/100 [01:32<37:07, 23.21s/it]\u001b[A\u001b[A\n",
      "\n",
      "  5%|▌         | 5/100 [01:55<36:27, 23.02s/it]\u001b[A\u001b[A\n",
      "\n",
      "  6%|▌         | 6/100 [02:16<35:13, 22.48s/it]\u001b[A\u001b[A\n",
      "\n",
      "  7%|▋         | 7/100 [02:37<34:09, 22.03s/it]\u001b[A\u001b[A\n",
      "\n",
      "  8%|▊         | 8/100 [02:58<33:23, 21.77s/it]\u001b[A\u001b[A\n",
      "\n",
      "  9%|▉         | 9/100 [03:16<31:22, 20.68s/it]\u001b[A\u001b[A\n",
      "\n",
      " 10%|█         | 10/100 [03:35<30:12, 20.14s/it]\u001b[A\u001b[A\n",
      "\n",
      " 11%|█         | 11/100 [03:55<29:55, 20.17s/it]\u001b[A\u001b[A\n",
      "\n",
      " 12%|█▏        | 12/100 [04:17<30:11, 20.59s/it]\u001b[A\u001b[A\n",
      "\n",
      " 13%|█▎        | 13/100 [04:36<29:04, 20.05s/it]\u001b[A\u001b[A\n",
      "\n",
      " 14%|█▍        | 14/100 [04:56<28:50, 20.13s/it]\u001b[A\u001b[A\n",
      "\n",
      " 15%|█▌        | 15/100 [05:14<27:47, 19.61s/it]\u001b[A\u001b[A\n",
      "\n",
      " 16%|█▌        | 16/100 [05:39<29:42, 21.22s/it]\u001b[A\u001b[A\n",
      "\n",
      " 17%|█▋        | 17/100 [06:03<30:29, 22.05s/it]\u001b[A\u001b[A\n",
      "\n",
      " 18%|█▊        | 18/100 [06:22<28:59, 21.21s/it]\u001b[A\u001b[A\n",
      "\n",
      " 19%|█▉        | 19/100 [06:45<29:18, 21.71s/it]\u001b[A\u001b[A\n",
      "\n",
      " 20%|██        | 20/100 [07:09<29:38, 22.24s/it]\u001b[A\u001b[A\n",
      "\n",
      " 21%|██        | 21/100 [07:32<29:37, 22.50s/it]\u001b[A\u001b[A\n",
      "\n",
      " 22%|██▏       | 22/100 [07:54<29:14, 22.49s/it]\u001b[A\u001b[A\n",
      "\n",
      " 23%|██▎       | 23/100 [08:17<29:01, 22.62s/it]\u001b[A\u001b[A\n",
      "\n",
      " 24%|██▍       | 24/100 [08:42<29:17, 23.12s/it]\u001b[A\u001b[A\n",
      "\n",
      " 25%|██▌       | 25/100 [09:05<29:00, 23.21s/it]\u001b[A\u001b[A\n",
      "\n",
      " 26%|██▌       | 26/100 [09:27<28:08, 22.82s/it]\u001b[A\u001b[A\n",
      "\n",
      " 27%|██▋       | 27/100 [09:46<26:27, 21.75s/it]\u001b[A\u001b[A\n",
      "\n",
      " 28%|██▊       | 28/100 [10:05<25:09, 20.96s/it]\u001b[A\u001b[A\n",
      "\n",
      " 29%|██▉       | 29/100 [10:24<24:05, 20.36s/it]\u001b[A\u001b[A\n",
      "\n",
      " 30%|███       | 30/100 [10:43<23:15, 19.93s/it]\u001b[A\u001b[A\n",
      "\n",
      " 31%|███       | 31/100 [11:03<22:55, 19.94s/it]\u001b[A\u001b[A\n",
      "\n",
      " 32%|███▏      | 32/100 [11:22<22:13, 19.61s/it]\u001b[A\u001b[A\n",
      "\n",
      " 33%|███▎      | 33/100 [11:42<22:06, 19.79s/it]\u001b[A\u001b[A\n",
      "\n",
      " 34%|███▍      | 34/100 [12:00<21:16, 19.34s/it]\u001b[A\u001b[A\n",
      "\n",
      " 35%|███▌      | 35/100 [12:20<21:08, 19.52s/it]\u001b[A\u001b[A\n",
      "\n",
      " 36%|███▌      | 36/100 [12:40<20:58, 19.66s/it]\u001b[A\u001b[A\n",
      "\n",
      " 37%|███▋      | 37/100 [13:02<21:18, 20.29s/it]\u001b[A\u001b[A\n",
      "\n",
      " 38%|███▊      | 38/100 [13:20<20:11, 19.54s/it]\u001b[A\u001b[A\n",
      "\n",
      " 39%|███▉      | 39/100 [13:40<19:57, 19.63s/it]\u001b[A\u001b[A\n",
      "\n",
      " 40%|████      | 40/100 [13:59<19:23, 19.39s/it]\u001b[A\u001b[A\n",
      "\n",
      " 41%|████      | 41/100 [14:18<19:10, 19.50s/it]\u001b[A\u001b[A\n",
      "\n",
      " 42%|████▏     | 42/100 [14:37<18:31, 19.16s/it]\u001b[A\u001b[A\n",
      "\n",
      " 43%|████▎     | 43/100 [14:55<18:04, 19.03s/it]\u001b[A\u001b[A\n",
      "\n",
      " 44%|████▍     | 44/100 [15:15<17:53, 19.17s/it]\u001b[A\u001b[A\n",
      "\n",
      " 45%|████▌     | 45/100 [15:38<18:33, 20.25s/it]\u001b[A\u001b[A\n",
      "\n",
      " 46%|████▌     | 46/100 [15:59<18:34, 20.63s/it]\u001b[A\u001b[A\n",
      "\n",
      " 47%|████▋     | 47/100 [16:24<19:20, 21.90s/it]\u001b[A\u001b[A\n",
      "\n",
      " 48%|████▊     | 48/100 [16:43<18:14, 21.04s/it]\u001b[A\u001b[A\n",
      "\n",
      " 49%|████▉     | 49/100 [17:08<18:49, 22.14s/it]\u001b[A\u001b[A\n",
      "\n",
      " 50%|█████     | 50/100 [17:30<18:27, 22.14s/it]\u001b[A\u001b[A\n",
      "\n",
      " 51%|█████     | 51/100 [17:52<18:07, 22.20s/it]\u001b[A\u001b[A\n",
      "\n",
      " 52%|█████▏    | 52/100 [18:11<16:59, 21.24s/it]\u001b[A\u001b[A\n",
      "\n",
      " 53%|█████▎    | 53/100 [18:31<16:18, 20.82s/it]\u001b[A\u001b[A\n",
      "\n",
      " 54%|█████▍    | 54/100 [18:52<15:53, 20.73s/it]\u001b[A\u001b[A\n",
      "\n",
      " 55%|█████▌    | 55/100 [19:10<15:07, 20.16s/it]\u001b[A\u001b[A\n",
      "\n",
      " 56%|█████▌    | 56/100 [19:34<15:25, 21.04s/it]\u001b[A\u001b[A\n",
      "\n",
      " 57%|█████▋    | 57/100 [19:56<15:25, 21.53s/it]\u001b[A\u001b[A\n",
      "\n",
      " 58%|█████▊    | 58/100 [20:17<14:49, 21.19s/it]\u001b[A\u001b[A\n",
      "\n",
      " 59%|█████▉    | 59/100 [20:41<15:05, 22.08s/it]\u001b[A\u001b[A\n",
      "\n",
      " 60%|██████    | 60/100 [21:01<14:20, 21.50s/it]\u001b[A\u001b[A\n",
      "\n",
      " 61%|██████    | 61/100 [21:23<14:06, 21.71s/it]\u001b[A\u001b[A\n",
      "  0%|          | 0/100 [00:00<?, ?it/s]\u001b[A"
     ]
    },
    {
     "name": "stdout",
     "output_type": "stream",
     "text": [
      "Determining optimal threshold ...\n"
     ]
    },
    {
     "name": "stderr",
     "output_type": "stream",
     "text": [
      "\n",
      "\n",
      " 62%|██████▏   | 62/100 [21:46<13:54, 21.97s/it]\u001b[A\u001b[A\n",
      "  1%|          | 1/100 [00:22<37:50, 22.94s/it]\u001b[A\n",
      "\n",
      " 63%|██████▎   | 63/100 [22:08<13:32, 21.95s/it]\u001b[A\u001b[A\n",
      "  2%|▏         | 2/100 [00:47<38:06, 23.33s/it]\u001b[A\n",
      "\n",
      " 64%|██████▍   | 64/100 [22:28<12:56, 21.58s/it]\u001b[A\u001b[A\n",
      "  3%|▎         | 3/100 [01:05<35:27, 21.93s/it]\u001b[A\n",
      "\n",
      " 65%|██████▌   | 65/100 [22:54<13:13, 22.66s/it]\u001b[A\u001b[A\n",
      "  4%|▍         | 4/100 [01:29<35:45, 22.34s/it]\u001b[A\n",
      "\n",
      " 66%|██████▌   | 66/100 [23:16<12:45, 22.51s/it]\u001b[A\u001b[A\n",
      "  5%|▌         | 5/100 [01:47<33:40, 21.27s/it]\u001b[A\n",
      "  6%|▌         | 6/100 [02:10<33:54, 21.65s/it]\u001b[A\n",
      "\n",
      " 67%|██████▋   | 67/100 [23:41<12:54, 23.46s/it]\u001b[A\u001b[A\n",
      "  7%|▋         | 7/100 [02:30<32:49, 21.17s/it]\u001b[A\n",
      "\n",
      " 68%|██████▊   | 68/100 [24:07<12:47, 23.98s/it]\u001b[A\u001b[A\n",
      "  8%|▊         | 8/100 [02:53<33:21, 21.76s/it]\u001b[A\n",
      "\n",
      " 69%|██████▉   | 69/100 [24:26<11:39, 22.55s/it]\u001b[A\u001b[A\n",
      "  9%|▉         | 9/100 [03:15<32:53, 21.68s/it]\u001b[A\n",
      "\n",
      " 70%|███████   | 70/100 [24:47<11:08, 22.29s/it]\u001b[A\u001b[A\n",
      " 10%|█         | 10/100 [03:33<30:48, 20.54s/it]\u001b[A\n",
      "\n",
      " 71%|███████   | 71/100 [25:07<10:25, 21.56s/it]\u001b[A\u001b[A\n",
      " 11%|█         | 11/100 [03:50<29:08, 19.65s/it]\u001b[A\n",
      "\n",
      " 72%|███████▏  | 72/100 [25:28<09:59, 21.40s/it]\u001b[A\u001b[A\n",
      " 12%|█▏        | 12/100 [04:15<30:55, 21.08s/it]\u001b[A\n",
      "\n",
      " 73%|███████▎  | 73/100 [25:48<09:26, 20.97s/it]\u001b[A\u001b[A\n",
      " 13%|█▎        | 13/100 [04:36<30:43, 21.18s/it]\u001b[A\n",
      "\n",
      " 74%|███████▍  | 74/100 [26:07<08:48, 20.31s/it]\u001b[A\u001b[A\n",
      " 14%|█▍        | 14/100 [04:54<29:08, 20.33s/it]\u001b[A\n",
      "\n",
      " 75%|███████▌  | 75/100 [26:29<08:39, 20.76s/it]\u001b[A\u001b[A\n",
      "  0%|          | 0/100 [00:00<?, ?it/s]\u001b[A"
     ]
    },
    {
     "name": "stdout",
     "output_type": "stream",
     "text": [
      "Determining optimal threshold ...\n"
     ]
    },
    {
     "name": "stderr",
     "output_type": "stream",
     "text": [
      "\n",
      " 15%|█▌        | 15/100 [05:12<27:51, 19.67s/it]\u001b[A\n",
      "\n",
      " 76%|███████▌  | 76/100 [26:49<08:15, 20.64s/it]\u001b[A\u001b[A\n",
      "  1%|          | 1/100 [00:22<37:00, 22.43s/it]\u001b[A\n",
      " 16%|█▌        | 16/100 [05:33<27:46, 19.84s/it]\u001b[A\n",
      "\n",
      " 77%|███████▋  | 77/100 [27:10<07:55, 20.66s/it]\u001b[A\u001b[A\n",
      "  2%|▏         | 2/100 [00:42<35:20, 21.63s/it]\u001b[A\n",
      " 17%|█▋        | 17/100 [05:50<26:29, 19.16s/it]\u001b[A\n",
      "  3%|▎         | 3/100 [01:00<33:35, 20.77s/it]\u001b[A\n",
      "\n",
      " 78%|███████▊  | 78/100 [27:32<07:44, 21.11s/it]\u001b[A\u001b[A\n",
      " 18%|█▊        | 18/100 [06:10<26:27, 19.36s/it]\u001b[A\n",
      "  4%|▍         | 4/100 [01:25<34:55, 21.83s/it]\u001b[A\n",
      "\n",
      " 79%|███████▉  | 79/100 [27:58<07:51, 22.43s/it]\u001b[A\u001b[A\n",
      " 19%|█▉        | 19/100 [06:31<26:45, 19.83s/it]\u001b[A\n",
      "  5%|▌         | 5/100 [01:44<33:12, 20.97s/it]\u001b[A\n",
      "\n",
      " 80%|████████  | 80/100 [28:17<07:10, 21.54s/it]\u001b[A\u001b[A\n",
      " 20%|██        | 20/100 [06:50<26:00, 19.51s/it]\u001b[A\n",
      "  6%|▌         | 6/100 [02:05<32:56, 21.03s/it]\u001b[A\n",
      "\n",
      " 81%|████████  | 81/100 [28:38<06:43, 21.24s/it]\u001b[A\u001b[A\n",
      " 21%|██        | 21/100 [07:09<25:31, 19.39s/it]\u001b[A\n",
      " 22%|██▏       | 22/100 [07:28<24:58, 19.22s/it]\u001b[A\n",
      "  7%|▋         | 7/100 [02:31<34:47, 22.45s/it]\u001b[A\n",
      "\n",
      " 82%|████████▏ | 82/100 [29:02<06:37, 22.06s/it]\u001b[A\u001b[A\n",
      " 23%|██▎       | 23/100 [07:47<24:44, 19.28s/it]\u001b[A\n",
      "  8%|▊         | 8/100 [02:55<35:15, 23.00s/it]\u001b[A\n",
      "\n",
      " 83%|████████▎ | 83/100 [29:29<06:41, 23.62s/it]\u001b[A\u001b[A\n",
      " 24%|██▍       | 24/100 [08:08<24:56, 19.69s/it]\u001b[A\n",
      "  9%|▉         | 9/100 [03:15<33:38, 22.19s/it]\u001b[A\n",
      "\n",
      " 84%|████████▍ | 84/100 [29:51<06:09, 23.08s/it]\u001b[A\u001b[A\n",
      " 25%|██▌       | 25/100 [08:26<24:02, 19.23s/it]\u001b[A\n",
      " 10%|█         | 10/100 [03:34<31:40, 21.11s/it]\u001b[A\n",
      "\n",
      " 85%|████████▌ | 85/100 [30:12<05:37, 22.50s/it]\u001b[A\u001b[A\n",
      " 26%|██▌       | 26/100 [08:46<23:53, 19.37s/it]\u001b[A\n",
      " 11%|█         | 11/100 [03:54<30:58, 20.88s/it]\u001b[A\n",
      "\n",
      " 86%|████████▌ | 86/100 [30:33<05:08, 22.05s/it]\u001b[A\u001b[A\n",
      " 27%|██▋       | 27/100 [09:05<23:42, 19.49s/it]\u001b[A\n",
      " 12%|█▏        | 12/100 [04:14<30:01, 20.47s/it]\u001b[A\n",
      "\n",
      " 87%|████████▋ | 87/100 [30:52<04:36, 21.24s/it]\u001b[A\u001b[A\n",
      " 28%|██▊       | 28/100 [09:28<24:40, 20.56s/it]\u001b[A\n",
      " 13%|█▎        | 13/100 [04:34<29:32, 20.37s/it]\u001b[A\n",
      "\n",
      " 88%|████████▊ | 88/100 [31:11<04:06, 20.55s/it]\u001b[A\u001b[A\n",
      " 29%|██▉       | 29/100 [09:52<25:29, 21.54s/it]\u001b[A\n",
      " 14%|█▍        | 14/100 [04:56<29:51, 20.83s/it]\u001b[A\n",
      "\n",
      " 89%|████████▉ | 89/100 [31:32<03:47, 20.64s/it]\u001b[A\u001b[A\n",
      " 30%|███       | 30/100 [10:12<24:40, 21.16s/it]\u001b[A\n",
      " 15%|█▌        | 15/100 [05:16<29:11, 20.60s/it]\u001b[A\n",
      "\n",
      " 90%|█████████ | 90/100 [31:52<03:24, 20.48s/it]\u001b[A\u001b[A\n",
      " 31%|███       | 31/100 [10:32<23:41, 20.60s/it]\u001b[A\n",
      " 16%|█▌        | 16/100 [05:36<28:44, 20.53s/it]\u001b[A\n",
      "\n",
      " 91%|█████████ | 91/100 [32:14<03:09, 21.01s/it]\u001b[A\u001b[A\n",
      " 32%|███▏      | 32/100 [10:52<23:07, 20.41s/it]\u001b[A\n",
      " 17%|█▋        | 17/100 [05:58<28:57, 20.94s/it]\u001b[A\n",
      "\n",
      " 92%|█████████▏| 92/100 [32:34<02:45, 20.74s/it]\u001b[A\u001b[A\n",
      " 33%|███▎      | 33/100 [11:10<22:04, 19.77s/it]\u001b[A\n",
      " 18%|█▊        | 18/100 [06:20<28:54, 21.15s/it]\u001b[A\n",
      "\n",
      " 93%|█████████▎| 93/100 [32:58<02:30, 21.48s/it]\u001b[A\u001b[A\n",
      " 34%|███▍      | 34/100 [11:31<22:09, 20.15s/it]\u001b[A\n",
      " 19%|█▉        | 19/100 [06:43<29:15, 21.67s/it]\u001b[A\n",
      "\n",
      " 94%|█████████▍| 94/100 [33:16<02:03, 20.56s/it]\u001b[A\u001b[A\n",
      " 35%|███▌      | 35/100 [11:55<23:05, 21.31s/it]\u001b[A\n",
      " 20%|██        | 20/100 [07:03<28:34, 21.43s/it]\u001b[A\n",
      "\n",
      " 95%|█████████▌| 95/100 [33:35<01:40, 20.09s/it]\u001b[A\u001b[A\n",
      " 36%|███▌      | 36/100 [12:14<21:58, 20.60s/it]\u001b[A\n",
      " 21%|██        | 21/100 [07:24<27:58, 21.25s/it]\u001b[A"
     ]
    },
    {
     "name": "stdout",
     "output_type": "stream",
     "text": [
      "Stopping early at threshold=0.09514693697594633. Number of spots fell below: 3\n"
     ]
    },
    {
     "name": "stderr",
     "output_type": "stream",
     "text": [
      "\n",
      " 37%|███▋      | 37/100 [12:33<21:00, 20.01s/it]\u001b[A"
     ]
    },
    {
     "name": "stdout",
     "output_type": "stream",
     "text": [
      "computing final spots ...\n"
     ]
    },
    {
     "name": "stderr",
     "output_type": "stream",
     "text": [
      "\n",
      " 22%|██▏       | 22/100 [07:48<28:34, 21.98s/it]\u001b[A\n",
      " 38%|███▊      | 38/100 [12:54<21:01, 20.35s/it]\u001b[A\n",
      " 23%|██▎       | 23/100 [08:11<28:27, 22.17s/it]\u001b[A\n",
      " 39%|███▉      | 39/100 [13:15<20:57, 20.62s/it]\u001b[A\n",
      " 24%|██▍       | 24/100 [08:31<27:14, 21.50s/it]\u001b[A\n",
      " 40%|████      | 40/100 [13:41<22:07, 22.12s/it]\u001b[A\n",
      " 25%|██▌       | 25/100 [08:52<26:51, 21.48s/it]\u001b[A\n",
      " 41%|████      | 41/100 [14:01<21:16, 21.64s/it]\u001b[A\n",
      " 26%|██▌       | 26/100 [09:08<24:35, 19.95s/it]\u001b[A\n",
      " 42%|████▏     | 42/100 [14:22<20:36, 21.32s/it]\u001b[A\n",
      " 27%|██▋       | 27/100 [09:30<25:00, 20.55s/it]\u001b[A\n",
      " 43%|████▎     | 43/100 [14:39<19:08, 20.16s/it]\u001b[A\n",
      " 28%|██▊       | 28/100 [09:49<24:00, 20.01s/it]\u001b[A\n",
      " 44%|████▍     | 44/100 [14:59<18:41, 20.02s/it]\u001b[A\n",
      " 29%|██▉       | 29/100 [10:08<23:11, 19.61s/it]\u001b[A\n",
      " 45%|████▌     | 45/100 [15:19<18:28, 20.15s/it]\u001b[A\n",
      " 30%|███       | 30/100 [10:31<24:00, 20.58s/it]\u001b[A\n",
      " 46%|████▌     | 46/100 [15:39<17:55, 19.92s/it]\u001b[A\n",
      " 31%|███       | 31/100 [10:50<23:11, 20.17s/it]\u001b[A\n",
      " 47%|████▋     | 47/100 [16:00<18:00, 20.39s/it]\u001b[A\n",
      " 32%|███▏      | 32/100 [11:10<22:43, 20.05s/it]\u001b[A"
     ]
    },
    {
     "name": "stdout",
     "output_type": "stream",
     "text": [
      "Stopping early at threshold=0.17502668740773442. Number of spots fell below: 3\n"
     ]
    },
    {
     "name": "stderr",
     "output_type": "stream",
     "text": [
      "\n",
      " 33%|███▎      | 33/100 [11:30<22:22, 20.03s/it]\u001b[A"
     ]
    },
    {
     "name": "stdout",
     "output_type": "stream",
     "text": [
      "computing final spots ...\n"
     ]
    },
    {
     "name": "stderr",
     "output_type": "stream",
     "text": [
      "\n",
      " 34%|███▍      | 34/100 [11:54<23:33, 21.41s/it]\u001b[A\n",
      " 35%|███▌      | 35/100 [12:13<22:26, 20.71s/it]\u001b[A\n",
      " 36%|███▌      | 36/100 [12:35<22:20, 20.95s/it]\u001b[A\n",
      " 37%|███▋      | 37/100 [12:55<21:40, 20.64s/it]\u001b[A\n",
      " 38%|███▊      | 38/100 [13:20<22:51, 22.12s/it]\u001b[A\n",
      " 39%|███▉      | 39/100 [13:43<22:36, 22.24s/it]\u001b[A\n",
      " 40%|████      | 40/100 [14:02<21:22, 21.37s/it]\u001b[A\n",
      " 41%|████      | 41/100 [14:22<20:34, 20.92s/it]\u001b[A\n",
      " 42%|████▏     | 42/100 [14:41<19:37, 20.31s/it]\u001b[A\n",
      " 43%|████▎     | 43/100 [15:01<19:22, 20.39s/it]\u001b[A\n",
      " 44%|████▍     | 44/100 [15:19<18:20, 19.65s/it]\u001b[A\n",
      " 45%|████▌     | 45/100 [15:38<17:38, 19.25s/it]\u001b[A\n",
      " 46%|████▌     | 46/100 [15:56<17:06, 19.01s/it]\u001b[A\n",
      " 47%|████▋     | 47/100 [16:18<17:30, 19.82s/it]\u001b[A\n",
      " 48%|████▊     | 48/100 [16:36<16:43, 19.29s/it]\u001b[A\n",
      " 49%|████▉     | 49/100 [16:58<17:09, 20.19s/it]\u001b[A\n",
      " 50%|█████     | 50/100 [17:22<17:47, 21.35s/it]\u001b[A\n",
      " 51%|█████     | 51/100 [17:47<18:08, 22.22s/it]\u001b[A\n",
      " 52%|█████▏    | 52/100 [18:07<17:19, 21.66s/it]\u001b[A\n",
      " 53%|█████▎    | 53/100 [18:27<16:41, 21.31s/it]\u001b[A\n",
      " 54%|█████▍    | 54/100 [18:49<16:18, 21.27s/it]\u001b[A\n",
      " 55%|█████▌    | 55/100 [19:07<15:14, 20.31s/it]\u001b[A\n",
      " 56%|█████▌    | 56/100 [19:28<15:12, 20.74s/it]\u001b[A\n",
      " 57%|█████▋    | 57/100 [19:49<14:54, 20.80s/it]\u001b[A\n",
      " 58%|█████▊    | 58/100 [20:12<14:58, 21.40s/it]\u001b[A\n",
      " 59%|█████▉    | 59/100 [20:34<14:45, 21.60s/it]\u001b[A\n",
      " 60%|██████    | 60/100 [20:54<14:02, 21.06s/it]\u001b[A\n",
      " 61%|██████    | 61/100 [21:16<13:49, 21.26s/it]\u001b[A\n",
      " 62%|██████▏   | 62/100 [21:38<13:38, 21.53s/it]\u001b[A\n",
      " 63%|██████▎   | 63/100 [21:59<13:10, 21.38s/it]\u001b[A\n",
      " 64%|██████▍   | 64/100 [22:19<12:39, 21.09s/it]\u001b[A\n",
      " 65%|██████▌   | 65/100 [22:40<12:15, 21.01s/it]\u001b[A\n",
      " 66%|██████▌   | 66/100 [23:00<11:43, 20.69s/it]\u001b[A\n",
      " 67%|██████▋   | 67/100 [23:20<11:17, 20.52s/it]\u001b[A\n",
      " 68%|██████▊   | 68/100 [23:39<10:37, 19.91s/it]\u001b[A\n",
      " 69%|██████▉   | 69/100 [23:57<09:59, 19.34s/it]\u001b[A\n",
      " 70%|███████   | 70/100 [24:18<09:59, 19.97s/it]\u001b[A\n",
      " 71%|███████   | 71/100 [24:38<09:40, 20.01s/it]\u001b[A\n",
      "\n",
      "  0%|          | 0/100 [00:00<?, ?it/s]\u001b[A\u001b[A"
     ]
    },
    {
     "name": "stdout",
     "output_type": "stream",
     "text": [
      "Determining optimal threshold ...\n"
     ]
    },
    {
     "name": "stderr",
     "output_type": "stream",
     "text": [
      "\n",
      " 72%|███████▏  | 72/100 [24:57<09:13, 19.78s/it]\u001b[A\n",
      "\n",
      "  1%|          | 1/100 [00:19<32:23, 19.63s/it]\u001b[A\u001b[A\n",
      " 73%|███████▎  | 73/100 [25:17<08:49, 19.60s/it]\u001b[A\n",
      "\n",
      "  2%|▏         | 2/100 [00:38<31:29, 19.29s/it]\u001b[A\u001b[A\n",
      " 74%|███████▍  | 74/100 [25:37<08:36, 19.87s/it]\u001b[A\n",
      "\n",
      "  3%|▎         | 3/100 [01:01<33:13, 20.55s/it]\u001b[A\u001b[A\n",
      " 75%|███████▌  | 75/100 [25:56<08:13, 19.72s/it]\u001b[A\n",
      "\n",
      "  4%|▍         | 4/100 [01:25<34:26, 21.52s/it]\u001b[A\u001b[A\n",
      " 76%|███████▌  | 76/100 [26:18<08:07, 20.31s/it]\u001b[A\n",
      "\n",
      "  5%|▌         | 5/100 [01:47<34:29, 21.79s/it]\u001b[A\u001b[A\n",
      " 77%|███████▋  | 77/100 [26:42<08:11, 21.39s/it]\u001b[A\n",
      "\n",
      "  6%|▌         | 6/100 [02:06<32:53, 21.00s/it]\u001b[A\u001b[A\n",
      " 78%|███████▊  | 78/100 [27:00<07:26, 20.29s/it]\u001b[A\n",
      "\n",
      "  7%|▋         | 7/100 [02:25<31:27, 20.29s/it]\u001b[A\u001b[A\n",
      " 79%|███████▉  | 79/100 [27:19<06:58, 19.91s/it]\u001b[A\n",
      "\n",
      "  8%|▊         | 8/100 [02:45<30:44, 20.05s/it]\u001b[A\u001b[A\n",
      " 80%|████████  | 80/100 [27:39<06:41, 20.09s/it]\u001b[A\n",
      "\n",
      "  9%|▉         | 9/100 [03:04<30:02, 19.80s/it]\u001b[A\u001b[A\n",
      " 81%|████████  | 81/100 [28:02<06:36, 20.85s/it]\u001b[A\n",
      "\n",
      " 10%|█         | 10/100 [03:22<28:51, 19.24s/it]\u001b[A\u001b[A\n",
      " 82%|████████▏ | 82/100 [28:21<06:07, 20.40s/it]\u001b[A\n",
      "\n",
      " 11%|█         | 11/100 [03:41<28:42, 19.35s/it]\u001b[A\u001b[A\n",
      " 83%|████████▎ | 83/100 [28:39<05:30, 19.43s/it]\u001b[A\n",
      "\n",
      " 12%|█▏        | 12/100 [04:04<29:50, 20.35s/it]\u001b[A\u001b[A\n",
      " 84%|████████▍ | 84/100 [28:58<05:10, 19.39s/it]\u001b[A\n",
      "\n",
      " 13%|█▎        | 13/100 [04:24<29:19, 20.22s/it]\u001b[A\u001b[A\n",
      " 85%|████████▌ | 85/100 [29:16<04:45, 19.06s/it]\u001b[A\n",
      "\n",
      " 14%|█▍        | 14/100 [04:44<29:04, 20.28s/it]\u001b[A\u001b[A"
     ]
    },
    {
     "name": "stdout",
     "output_type": "stream",
     "text": [
      "Stopping early at threshold=0.14292077133149814. Number of spots fell below: 3\n",
      "computing final spots ...\n"
     ]
    },
    {
     "name": "stderr",
     "output_type": "stream",
     "text": [
      "\n",
      "\n",
      " 15%|█▌        | 15/100 [05:05<28:54, 20.41s/it]\u001b[A\u001b[A\n",
      "\n",
      " 16%|█▌        | 16/100 [05:25<28:09, 20.11s/it]\u001b[A\u001b[A\n",
      "\n",
      " 17%|█▋        | 17/100 [05:44<27:42, 20.03s/it]\u001b[A\u001b[A\n",
      "\n",
      " 18%|█▊        | 18/100 [06:04<27:13, 19.93s/it]\u001b[A\u001b[A\n",
      "\n",
      " 19%|█▉        | 19/100 [06:26<27:32, 20.40s/it]\u001b[A\u001b[A\n",
      "\n",
      " 20%|██        | 20/100 [06:45<26:42, 20.03s/it]\u001b[A\u001b[A\n",
      "\n",
      " 21%|██        | 21/100 [07:06<26:44, 20.31s/it]\u001b[A\u001b[A\n",
      "\n",
      " 22%|██▏       | 22/100 [07:32<28:50, 22.18s/it]\u001b[A\u001b[A\n",
      "\n",
      " 23%|██▎       | 23/100 [07:55<28:45, 22.41s/it]\u001b[A\u001b[A\n",
      "\n",
      " 24%|██▍       | 24/100 [08:16<27:46, 21.93s/it]\u001b[A\u001b[A\n",
      "\n",
      " 25%|██▌       | 25/100 [08:34<26:06, 20.89s/it]\u001b[A\u001b[A\n",
      "\n",
      " 26%|██▌       | 26/100 [08:56<25:58, 21.06s/it]\u001b[A\u001b[A\n",
      "\n",
      " 27%|██▋       | 27/100 [09:14<24:31, 20.16s/it]\u001b[A\u001b[A\n",
      "\n",
      " 28%|██▊       | 28/100 [09:32<23:28, 19.56s/it]\u001b[A\u001b[A\n",
      "\n",
      " 29%|██▉       | 29/100 [09:51<23:03, 19.49s/it]\u001b[A\u001b[A\n",
      "\n",
      " 30%|███       | 30/100 [10:11<22:42, 19.47s/it]\u001b[A\u001b[A\n",
      "\n",
      " 31%|███       | 31/100 [10:29<21:47, 18.95s/it]\u001b[A\u001b[A\n",
      "\n",
      " 32%|███▏      | 32/100 [10:51<22:28, 19.84s/it]\u001b[A\u001b[A\n",
      "\n",
      " 33%|███▎      | 33/100 [11:11<22:15, 19.93s/it]\u001b[A\u001b[A\n",
      "\n",
      " 34%|███▍      | 34/100 [11:30<21:52, 19.88s/it]\u001b[A\u001b[A\n",
      "\n",
      " 35%|███▌      | 35/100 [11:49<21:07, 19.50s/it]\u001b[A\u001b[A\n",
      "\n",
      " 36%|███▌      | 36/100 [12:08<20:42, 19.42s/it]\u001b[A\u001b[A\n",
      "\n",
      " 37%|███▋      | 37/100 [12:27<20:11, 19.24s/it]\u001b[A\u001b[A\n",
      "\n",
      " 38%|███▊      | 38/100 [12:45<19:33, 18.93s/it]\u001b[A\u001b[A\n",
      "\n",
      " 39%|███▉      | 39/100 [13:04<19:17, 18.98s/it]\u001b[A\u001b[A\n",
      "\n",
      " 40%|████      | 40/100 [13:27<20:01, 20.03s/it]\u001b[A\u001b[A\n",
      "\n",
      " 41%|████      | 41/100 [13:45<19:08, 19.46s/it]\u001b[A\u001b[A\n",
      "\n",
      " 42%|████▏     | 42/100 [14:06<19:13, 19.90s/it]\u001b[A\u001b[A\n",
      "\n",
      " 43%|████▎     | 43/100 [14:29<19:46, 20.81s/it]\u001b[A\u001b[A\n",
      "\n",
      " 44%|████▍     | 44/100 [14:50<19:31, 20.91s/it]\u001b[A\u001b[A\n",
      "\n",
      " 45%|████▌     | 45/100 [15:10<18:56, 20.66s/it]\u001b[A\u001b[A\n",
      "\n",
      " 46%|████▌     | 46/100 [15:35<19:39, 21.84s/it]\u001b[A\u001b[A\n",
      "\n",
      " 47%|████▋     | 47/100 [15:57<19:23, 21.95s/it]\u001b[A\u001b[A\n",
      "\n",
      " 48%|████▊     | 48/100 [16:20<19:12, 22.17s/it]\u001b[A\u001b[A\n",
      "\n",
      " 49%|████▉     | 49/100 [16:43<19:17, 22.69s/it]\u001b[A\u001b[A\n",
      "\n",
      " 50%|█████     | 50/100 [17:06<18:54, 22.69s/it]\u001b[A\u001b[A\n",
      "\n",
      " 51%|█████     | 51/100 [17:26<17:51, 21.87s/it]\u001b[A\u001b[A\n",
      "\n",
      " 52%|█████▏    | 52/100 [17:50<17:54, 22.39s/it]\u001b[A\u001b[A\n",
      "\n",
      " 53%|█████▎    | 53/100 [18:10<17:03, 21.77s/it]\u001b[A\u001b[A\n",
      "\n",
      " 54%|█████▍    | 54/100 [18:28<15:42, 20.48s/it]\u001b[A\u001b[A"
     ]
    },
    {
     "name": "stdout",
     "output_type": "stream",
     "text": [
      "Stopping early at threshold=0.011136311360380867. Number of spots fell below: 3\n",
      "computing final spots ...\n"
     ]
    }
   ],
   "source": [
    "import time\n",
    "lmpf = starfish.spots.DetectSpots.LocalMaxPeakFinder(\n",
    "min_distance=2,\n",
    "stringency=0,\n",
    "min_obj_area=4,\n",
    "max_obj_area=600,\n",
    "verbose=True,\n",
    "is_volume=False)\n",
    "\n",
    "start: float = time.perf_counter()\n",
    "intensities = lmpf.run(primary, n_processes=22)\n",
    "print(f\"Spot finding took {(time.perf_counter()-start)/360} hours\")"
   ]
  },
  {
   "cell_type": "markdown",
   "metadata": {},
   "source": [
    "## Decode spots\n",
    "Next, spots are decoded."
   ]
  },
  {
   "cell_type": "code",
   "execution_count": null,
   "metadata": {},
   "outputs": [],
   "source": [
    "decoded = experiment.codebook.decode_per_round_max(intensities.fillna(0))\n",
    "decoded_mask = decoded['target'] != 'nan'"
   ]
  },
  {
   "cell_type": "code",
   "execution_count": null,
   "metadata": {},
   "outputs": [],
   "source": [
    "import pandas as pd\n",
    "from starfish.types import Features\n",
    "from starfish.core.types import DecodedSpots\n",
    "\n",
    "df = pd.DataFrame(dict(decoded['features'].coords))\n",
    "pixel_coordinates = pd.Index(['x', 'y', 'z'])\n",
    "ds = DecodedSpots(df)\n",
    "ds.data"
   ]
  },
  {
   "cell_type": "code",
   "execution_count": null,
   "metadata": {},
   "outputs": [],
   "source": []
  }
 ],
 "metadata": {
  "kernelspec": {
   "display_name": "Python 3",
   "language": "python",
   "name": "python3"
  },
  "language_info": {
   "codemirror_mode": {
    "name": "ipython",
    "version": 3
   },
   "file_extension": ".py",
   "mimetype": "text/x-python",
   "name": "python",
   "nbconvert_exporter": "python",
   "pygments_lexer": "ipython3",
   "version": "3.7.4"
  }
 },
 "nbformat": 4,
 "nbformat_minor": 2
}
