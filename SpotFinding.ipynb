{
 "cells": [
  {
   "cell_type": "markdown",
   "metadata": {},
   "source": [
    "## Export data to SpaceTX format\n",
    "\n",
    "First create the subclasses of `FetchedTile` and `TileFetcher` required and then export the data into SpaceTX"
   ]
  },
  {
   "cell_type": "code",
   "execution_count": 30,
   "metadata": {},
   "outputs": [
    {
     "name": "stdout",
     "output_type": "stream",
     "text": [
      "The autoreload extension is already loaded. To reload it, use:\n",
      "  %reload_ext autoreload\n"
     ]
    }
   ],
   "source": [
    "%load_ext autoreload\n",
    "%autoreload 2\n",
    "\n",
    "import functools\n",
    "import os\n",
    "from typing import Mapping, Tuple, Union\n",
    "\n",
    "import click\n",
    "import numpy as np\n",
    "from skimage.io import imread\n",
    "from slicedimage import ImageFormat\n",
    "\n",
    "from starfish import Codebook\n",
    "from starfish.experiment.builder import FetchedTile, TileFetcher, write_experiment_json\n",
    "from starfish.types import Axes, Coordinates, CoordinateValue, Features\n",
    "\n",
    "import pdb\n",
    "\n",
    "@functools.lru_cache(maxsize=1)\n",
    "def cached_read_fn(file_path) -> np.ndarray:\n",
    "    return imread(file_path)\n",
    "\n",
    "class StarMapTile(FetchedTile):\n",
    "\n",
    "    def __init__(\n",
    "            self,\n",
    "            file_path: str,\n",
    "            coordinates: Mapping[Union[str, Coordinates], CoordinateValue]\n",
    "    ) -> None:\n",
    "        self.file_path = file_path\n",
    "        self._coordinates = coordinates\n",
    "\n",
    "    @property\n",
    "    def shape(self) -> Mapping[Axes, int]:\n",
    "#        print(np.shape(self.tile_data()))\n",
    "        return {Axes.Y: 7962, Axes.X: 3356}\n",
    "#         return {Axes.Y: 1000, Axes.X: 500}\n",
    "#         return {Axes.Y: 1024, Axes.X: 1024}\n",
    "\n",
    "    @property\n",
    "    def coordinates(self) -> Mapping[Union[str, Coordinates], CoordinateValue]:\n",
    "        return self._coordinates\n",
    "\n",
    "    @staticmethod\n",
    "    def crop(img) -> np.ndarray:\n",
    "#         crp = img[2000:6000, 1000:1800]\n",
    "        crp = img[3000:4000, 1300:1800]\n",
    "#         crp = img[2950:3150, 1330:1730]\n",
    "#         crp = img[1024:2048, 0:1024]\n",
    "        return crp\n",
    "    \n",
    "    def tile_data(self) -> np.ndarray:\n",
    "#        return self.crop(imread(self.file_path))\n",
    "       return (imread(self.file_path))\n",
    "    \n",
    "    def __str__(self) -> str:\n",
    "        return self.file_path\n",
    "    \n",
    "class StarMapTileFetcher(TileFetcher):\n",
    "    \n",
    "    def __init__(self, input_dir: str) -> None:\n",
    "        self.input_dir = input_dir\n",
    "#         self.num_z = 11\n",
    "        \n",
    "    def get_tile(\n",
    "            self, fov_id: int, round_label: int, ch_label: int, zplane_label: int) -> FetchedTile:\n",
    "        if zplane_label < 10:\n",
    "            zplane_padded = f\"00{zplane_label}\"\n",
    "        elif zplane_label < 100:\n",
    "            zplane_padded = f\"0{zplane_label}\"\n",
    "        else:\n",
    "            zplane_padded = str(zplane_label)\n",
    "        basename = f\"2019-06-29_Justus_section3_round1_2x10_1_FusionStitcher_C{ch_label+1}_Z{zplane_padded}.tif\"  # translate to 3d\n",
    "        file_path = os.path.join(self.input_dir, basename)\n",
    "        coordinates = {\n",
    "            Coordinates.X: (0.0, 0.0001),\n",
    "            Coordinates.Y: (0.0, 0.0001),\n",
    "            Coordinates.Z: (0.0, 0.0001),\n",
    "        }\n",
    "        return StarMapTile(file_path, coordinates)\n",
    "    \n",
    "class StarMapDAPITileFetcher(TileFetcher):\n",
    "    \n",
    "    def __init__(self, input_dir: str) -> None:\n",
    "        self.input_dir = input_dir\n",
    "        \n",
    "    def get_tile(\n",
    "            self, fov_id: int, round_label: int, ch_label: int, zplane_label: int) -> FetchedTile:\n",
    "        if zplane_label < 10:\n",
    "            zplane_padded = f\"00{zplane_label}\"\n",
    "        elif zplane_label < 100:\n",
    "            zplane_padded = f\"0{zplane_label}\"\n",
    "        else:\n",
    "            zplane_padded = str(zplane_label)\n",
    "        basename = f\"2019-06-29_Justus_section3_round1_2x10_1_FusionStitcher_C0_Z{zplane_padded}.tif\"\n",
    "        file_path = os.path.join(self.input_dir, basename)\n",
    "        coordinates = {\n",
    "            Coordinates.X: (0.0, 0.0001),\n",
    "            Coordinates.Y: (0.0, 0.0001),\n",
    "            Coordinates.Z: (0.0, 0.0001),\n",
    "        }\n",
    "        return StarMapTile(file_path, coordinates)\n",
    "    \n",
    "def format_data(input_dir, output_dir):\n",
    "    \n",
    "    primary_image_dimensions: Mapping[Axes, int] = {\n",
    "        Axes.ROUND: 1,\n",
    "        Axes.CH: 4,\n",
    "        Axes.ZPLANE: 11,\n",
    "    }\n",
    "    \n",
    "    aux_image_dimensions: Mapping[str, Mapping[Union[str, Axes], int]] = {\n",
    "        \"nuclei\": {\n",
    "            Axes.ROUND: 1,\n",
    "            Axes.CH: 1,\n",
    "            Axes.ZPLANE: 11\n",
    "        }\n",
    "    }\n",
    "    \n",
    "#     pdb.set_trace()\n",
    "    write_experiment_json(\n",
    "        path=output_dir,\n",
    "        fov_count=1,\n",
    "        tile_format=ImageFormat.TIFF,\n",
    "        primary_image_dimensions=primary_image_dimensions,\n",
    "        aux_name_to_dimensions=aux_image_dimensions,\n",
    "        primary_tile_fetcher=StarMapTileFetcher(input_dir),\n",
    "        aux_tile_fetcher={\"nuclei\": StarMapDAPITileFetcher(input_dir)},\n",
    "        dimension_order=(Axes.ROUND, Axes.CH, Axes.ZPLANE)\n",
    "    )\n",
    "    \n",
    "    codebook = [\n",
    "        {\n",
    "            Features.CODEWORD: [\n",
    "                {Axes.ROUND.value: 0, Axes.CH.value: 0, Features.CODE_VALUE: 1}\n",
    "            ],\n",
    "            Features.TARGET: \"GFP\"\n",
    "        },\n",
    "        {\n",
    "            Features.CODEWORD: [\n",
    "                {Axes.ROUND.value: 0, Axes.CH.value: 1, Features.CODE_VALUE: 1}\n",
    "            ],\n",
    "            Features.TARGET: \"RFP\"\n",
    "        },\n",
    "        {\n",
    "            Features.CODEWORD: [\n",
    "                {Axes.ROUND.value: 0, Axes.CH.value: 2, Features.CODE_VALUE: 1}\n",
    "            ],\n",
    "            Features.TARGET: \"Cy5\"\n",
    "        },\n",
    "        {\n",
    "            Features.CODEWORD: [\n",
    "                {Axes.ROUND.value: 0, Axes.CH.value: 3, Features.CODE_VALUE: 1}\n",
    "            ],\n",
    "            Features.TARGET: \"iRFP\"\n",
    "        }\n",
    "    ]\n",
    "    Codebook.from_code_array(codebook).to_json(\"/home/nomi/Desktop/starfish/experiment/codebook.json\")"
   ]
  },
  {
   "cell_type": "code",
   "execution_count": 99,
   "metadata": {},
   "outputs": [
    {
     "name": "stdout",
     "output_type": "stream",
     "text": [
      "The autoreload extension is already loaded. To reload it, use:\n",
      "  %reload_ext autoreload\n"
     ]
    }
   ],
   "source": [
    "%load_ext autoreload\n",
    "%autoreload 2\n",
    "\n",
    "import functools\n",
    "import os\n",
    "from typing import Mapping, Tuple, Union\n",
    "\n",
    "import click\n",
    "import numpy as np\n",
    "from skimage.io import imread\n",
    "from slicedimage import ImageFormat\n",
    "\n",
    "from starfish import Codebook\n",
    "from starfish.experiment.builder import FetchedTile, TileFetcher, write_experiment_json\n",
    "from starfish.types import Axes, Coordinates, CoordinateValue, Features\n",
    "\n",
    "import pdb\n",
    "\n",
    "@functools.lru_cache(maxsize=1)\n",
    "def cached_read_fn(file_path) -> np.ndarray:\n",
    "    return imread(file_path)\n",
    "\n",
    "class StarMapTile(FetchedTile):\n",
    "\n",
    "    def __init__(\n",
    "            self,\n",
    "            file_path: str,\n",
    "            coordinates: Mapping[Union[str, Coordinates], CoordinateValue]\n",
    "    ) -> None:\n",
    "        self.file_path = file_path\n",
    "        self._coordinates = coordinates\n",
    "\n",
    "    @property\n",
    "    def shape(self) -> Mapping[Axes, int]:\n",
    "        print(np.shape(self.tile_data()))\n",
    "#         return {Axes.Y: 7962, Axes.X: 3356}\n",
    "#         return {Axes.Y: 1024, Axes.X: 1024}\n",
    "        return {Axes.Y: 1000, Axes.X: 500}\n",
    "\n",
    "    @property\n",
    "    def coordinates(self) -> Mapping[Union[str, Coordinates], CoordinateValue]:\n",
    "        return self._coordinates\n",
    "\n",
    "    @staticmethod\n",
    "    def crop(img) -> np.ndarray:\n",
    "#         crp = img[2000:6000, 1000:1800]\n",
    "        crp = img[3000:4000, 1300:1800]\n",
    "#         crp = img[2950:3150, 1330:1730]\n",
    "#        crp = img[1024:2048, 0:1024]\n",
    "        return crp\n",
    "    \n",
    "    def tile_data(self) -> np.ndarray:\n",
    "        return self.crop(imread(self.file_path))\n",
    "#         return (imread(self.file_path))\n",
    "    \n",
    "    def __str__(self) -> str:\n",
    "        return self.file_path\n",
    "    \n",
    "class StarMapTileFetcher(TileFetcher):\n",
    "    \n",
    "    def __init__(self, input_dir: str) -> None:\n",
    "        self.input_dir = input_dir\n",
    "#         self.num_z = 11\n",
    "        \n",
    "    def get_tile(\n",
    "            self, fov_id: int, round_label: int, ch_label: int, zplane_label: int) -> FetchedTile:\n",
    "        if zplane_label < 10:\n",
    "            zplane_padded = f\"00{zplane_label}\"\n",
    "        elif zplane_label < 100:\n",
    "            zplane_padded = f\"0{zplane_label}\"\n",
    "        else:\n",
    "            zplane_padded = str(zplane_label)\n",
    "        basename = f\"2019-06-29_Justus_section3_round1_2x10_1_FusionStitcher_C2_Z{zplane_padded}.tif\"  # translate to 3d\n",
    "        file_path = os.path.join(self.input_dir, basename)\n",
    "        coordinates = {\n",
    "            Coordinates.X: (0.0, 0.0001),\n",
    "            Coordinates.Y: (0.0, 0.0001),\n",
    "            Coordinates.Z: (0.0, 0.0001),\n",
    "        }\n",
    "        return StarMapTile(file_path, coordinates)\n",
    "    \n",
    "class StarMapDAPITileFetcher(TileFetcher):\n",
    "    \n",
    "    def __init__(self, input_dir: str) -> None:\n",
    "        self.input_dir = input_dir\n",
    "        \n",
    "    def get_tile(\n",
    "            self, fov_id: int, round_label: int, ch_label: int, zplane_label: int) -> FetchedTile:\n",
    "        if zplane_label < 10:\n",
    "            zplane_padded = f\"00{zplane_label}\"\n",
    "        elif zplane_label < 100:\n",
    "            zplane_padded = f\"0{zplane_label}\"\n",
    "        else:\n",
    "            zplane_padded = str(zplane_label)\n",
    "        basename = f\"2019-06-29_Justus_section3_round1_2x10_1_FusionStitcher_C{ch_label}_Z{zplane_padded}.tif\"\n",
    "        file_path = os.path.join(self.input_dir, basename)\n",
    "        coordinates = {\n",
    "            Coordinates.X: (0.0, 0.0001),\n",
    "            Coordinates.Y: (0.0, 0.0001),\n",
    "            Coordinates.Z: (0.0, 0.0001),\n",
    "        }\n",
    "        return StarMapTile(file_path, coordinates)\n",
    "    \n",
    "def format_data(input_dir, output_dir):\n",
    "    \n",
    "    primary_image_dimensions: Mapping[Axes, int] = {\n",
    "        Axes.ROUND: 1,\n",
    "        Axes.CH: 1,\n",
    "        Axes.ZPLANE: 11,\n",
    "    }\n",
    "    \n",
    "    aux_image_dimensions: Mapping[str, Mapping[Union[str, Axes], int]] = {\n",
    "        \"nuclei\": {\n",
    "            Axes.ROUND: 1,\n",
    "            Axes.CH: 1,\n",
    "            Axes.ZPLANE: 11\n",
    "        }\n",
    "    }\n",
    "    \n",
    "#     pdb.set_trace()\n",
    "    write_experiment_json(\n",
    "        path=output_dir,\n",
    "        fov_count=1,\n",
    "        tile_format=ImageFormat.TIFF,\n",
    "        primary_image_dimensions=primary_image_dimensions,\n",
    "        aux_name_to_dimensions=aux_image_dimensions,\n",
    "        primary_tile_fetcher=StarMapTileFetcher(input_dir),\n",
    "        aux_tile_fetcher={\"nuclei\": StarMapDAPITileFetcher(input_dir)},\n",
    "        dimension_order=(Axes.ROUND, Axes.CH, Axes.ZPLANE)\n",
    "    )\n",
    "    codebook = [\n",
    "        {\n",
    "            Features.CODEWORD: [\n",
    "                {Axes.ROUND.value: 0, Axes.CH.value: 0, Features.CODE_VALUE: 1}\n",
    "            ],\n",
    "            Features.TARGET: \"RFP\"\n",
    "        }\n",
    "    ]\n",
    "    Codebook.from_code_array(codebook).to_json(\"/home/nomi/Desktop/starfish/experiment/codebook.json\")"
   ]
  },
  {
   "cell_type": "code",
   "execution_count": 1,
   "metadata": {},
   "outputs": [
    {
     "ename": "NameError",
     "evalue": "name 'format_data' is not defined",
     "output_type": "error",
     "traceback": [
      "\u001b[0;31m---------------------------------------------------------------------------\u001b[0m",
      "\u001b[0;31mNameError\u001b[0m                                 Traceback (most recent call last)",
      "\u001b[0;32m<ipython-input-1-05d4b69b32fc>\u001b[0m in \u001b[0;36m<module>\u001b[0;34m\u001b[0m\n\u001b[0;32m----> 1\u001b[0;31m format_data(\"/home/nomi/Desktop/starfish/raw_data/2019-06-29_Justus_section3_round1_2x10_1\",\n\u001b[0m\u001b[1;32m      2\u001b[0m            \"/home/nomi/Desktop/starfish/experiment\")\n",
      "\u001b[0;31mNameError\u001b[0m: name 'format_data' is not defined"
     ]
    }
   ],
   "source": [
    "format_data(\"/home/nomi/Desktop/starfish/raw_data/2019-06-29_Justus_section3_round1_2x10_1\",\n",
    "           \"/home/nomi/Desktop/starfish/experiment\")"
   ]
  },
  {
   "cell_type": "markdown",
   "metadata": {},
   "source": [
    "## Load the experiment and visualize the codebook\n",
    "Possibly necessary to copy the codebook information from `codebook_backup.json`."
   ]
  },
  {
   "cell_type": "code",
   "execution_count": 1,
   "metadata": {},
   "outputs": [],
   "source": [
    "%load_ext autoreload\n",
    "%autoreload 2\n",
    "from starfish import Experiment\n",
    "from six.moves import urllib\n",
    "from slicedimage.backends import CachingBackend, DiskBackend, HttpBackend, SIZE_LIMIT\n",
    "\n",
    "baseurl=\"/home/nomi/Desktop/starfish/experiment/experiment.json\"\n",
    "experiment = Experiment.from_json(baseurl)"
   ]
  },
  {
   "cell_type": "code",
   "execution_count": 2,
   "metadata": {},
   "outputs": [
    {
     "data": {
      "text/plain": [
       "<xarray.Codebook (target: 4, c: 4, r: 1)>\n",
       "array([[[1],\n",
       "        [0],\n",
       "        [0],\n",
       "        [0]],\n",
       "\n",
       "       [[0],\n",
       "        [1],\n",
       "        [0],\n",
       "        [0]],\n",
       "\n",
       "       [[0],\n",
       "        [0],\n",
       "        [1],\n",
       "        [0]],\n",
       "\n",
       "       [[0],\n",
       "        [0],\n",
       "        [0],\n",
       "        [1]]], dtype=uint8)\n",
       "Coordinates:\n",
       "  * target   (target) object 'GFP' 'RFP' 'Cy5' 'iRFP'\n",
       "  * c        (c) int64 0 1 2 3\n",
       "  * r        (r) int64 0"
      ]
     },
     "execution_count": 2,
     "metadata": {},
     "output_type": "execute_result"
    }
   ],
   "source": [
    "experiment.codebook"
   ]
  },
  {
   "cell_type": "markdown",
   "metadata": {},
   "source": [
    "## Visualize the FOV"
   ]
  },
  {
   "cell_type": "code",
   "execution_count": 3,
   "metadata": {},
   "outputs": [],
   "source": [
    "fov = experiment[\"fov_000\"]"
   ]
  },
  {
   "cell_type": "code",
   "execution_count": 4,
   "metadata": {},
   "outputs": [],
   "source": [
    "image = fov.get_image(\"primary\")"
   ]
  },
  {
   "cell_type": "code",
   "execution_count": 5,
   "metadata": {
    "scrolled": true
   },
   "outputs": [
    {
     "name": "stderr",
     "output_type": "stream",
     "text": [
      "100%|██████████| 11/11 [00:00<00:00, 146.43it/s]\n"
     ]
    },
    {
     "data": {
      "text/plain": [
       "<napari.viewer.Viewer at 0x7fdd905a16d8>"
      ]
     },
     "execution_count": 5,
     "metadata": {},
     "output_type": "execute_result"
    }
   ],
   "source": [
    "import starfish\n",
    "%gui qt\n",
    "ipython = get_ipython()\n",
    "ipython.magic(\"gui qt5\")\n",
    "starfish.display(image)"
   ]
  },
  {
   "cell_type": "markdown",
   "metadata": {},
   "source": [
    "## Project onto the Z axis\n",
    "The slider in the viewer should now only have as many options as there are channels. Also clipping the image to remove background noise."
   ]
  },
  {
   "cell_type": "code",
   "execution_count": 5,
   "metadata": {},
   "outputs": [
    {
     "name": "stderr",
     "output_type": "stream",
     "text": [
      "100%|██████████| 44/44 [00:06<00:00,  7.27it/s]\n"
     ]
    }
   ],
   "source": [
    "import starfish\n",
    "from starfish.types import Axes\n",
    "clipper = starfish.image.Filter.Clip(p_min=99)\n",
    "glp = starfish.image.Filter.GaussianLowPass(\n",
    "    sigma=(1, 1, 1),\n",
    "    is_volume=True\n",
    ")\n",
    "z_proj: starfish.ImageStack = ((image.max_proj(Axes.ZPLANE)))"
   ]
  },
  {
   "cell_type": "code",
   "execution_count": 6,
   "metadata": {},
   "outputs": [
    {
     "name": "stderr",
     "output_type": "stream",
     "text": [
      "100%|██████████| 1/1 [00:00<00:00, 121.78it/s]\n"
     ]
    },
    {
     "data": {
      "text/plain": [
       "<napari.viewer.Viewer at 0x7f3fd5440cf8>"
      ]
     },
     "execution_count": 6,
     "metadata": {},
     "output_type": "execute_result"
    }
   ],
   "source": [
    "starfish.display(z_proj)"
   ]
  },
  {
   "cell_type": "markdown",
   "metadata": {},
   "source": [
    "## Apply Filters\n",
    "Applying a bandpass and Gaussian low pass filters interleaved with clip filters."
   ]
  },
  {
   "cell_type": "code",
   "execution_count": 6,
   "metadata": {},
   "outputs": [],
   "source": [
    "from typing import Optional\n",
    "\n",
    "from starfish import ImageStack\n",
    "from starfish.image import Filter\n",
    "\n",
    "\n",
    "\n",
    "def preprocess_fov(primary_fov_imagestack: ImageStack,\n",
    "                  n_processes: Optional[int] = None,\n",
    "                  is_volume: Optional[bool] = False) -> ImageStack:\n",
    "   \"\"\"Preprocess a Starfish field of view image stack in preparation for\n",
    "   spot/pixel finding.\n",
    "\n",
    "   NOTE: This preprocessing pipeline processes imagestacks in place!\n",
    "\n",
    "   Args:\n",
    "       primary_fov_imagestack (ImageStack): A starfish FOV Imagestack\n",
    "       n_processes (Optional[int]): Number of processes to use for\n",
    "           preprocessing steps. If None, uses the output of os.cpu_count().\n",
    "           Defaults to None.\n",
    "\n",
    "   Returns:\n",
    "       ImageStack: A preprocessed starfish imagestack.\n",
    "   \"\"\"\n",
    "   print(\"Applying First Clip...\")\n",
    "   first_clip = Filter.ClipPercentileToZero(p_min=75, p_max=100,\n",
    "                                            is_volume=is_volume)\n",
    "   first_clip.run(primary_fov_imagestack, in_place=True, verbose=True,\n",
    "                  n_processes=n_processes)\n",
    "\n",
    "   print(\"Applying Bandpass...\")\n",
    "   bpass = Filter.Bandpass(lshort=0.5, llong=7, threshold=1/(1<<16-1),\n",
    "                           is_volume=is_volume)\n",
    "   bpass.run(primary_fov_imagestack, in_place=True, verbose=True,\n",
    "             n_processes=n_processes)\n",
    "\n",
    "   print(\"Applying Second Clip...\")\n",
    "   second_clip = Filter.ClipValueToZero(v_min=1/(1<<16-1), is_volume=is_volume)\n",
    "   second_clip.run(primary_fov_imagestack, in_place=True, verbose=True,\n",
    "                   n_processes=n_processes)\n",
    "\n",
    "   print(\"Applying Gaussian Low Pass...\")\n",
    "   z_gauss_filter = Filter.GaussianLowPass(sigma=(1, 0, 0), is_volume=True)\n",
    "   z_gauss_filter.run(primary_fov_imagestack, in_place=True,\n",
    "                      n_processes=n_processes)\n",
    "\n",
    "   print(\"Applying Final Clips...\")\n",
    "   final_percent_clip = Filter.ClipPercentileToZero(p_min=90, min_coeff=1.75)\n",
    "   final_percent_clip.run(primary_fov_imagestack, in_place=True, verbose=True,\n",
    "                          n_processes=n_processes)\n",
    "\n",
    "   final_value_clip = Filter.ClipValueToZero(v_max=1000/(1<<16-1))\n",
    "   final_value_clip.run(primary_fov_imagestack, in_place=True, verbose=True,\n",
    "                        n_processes=n_processes)\n",
    "\n",
    "   return primary_fov_imagestack"
   ]
  },
  {
   "cell_type": "code",
   "execution_count": 7,
   "metadata": {},
   "outputs": [
    {
     "name": "stderr",
     "output_type": "stream",
     "text": [
      "100%|██████████| 4/4 [00:00<00:00, 28.31it/s]\n",
      "0it [00:00, ?it/s]"
     ]
    },
    {
     "name": "stdout",
     "output_type": "stream",
     "text": [
      "Applying First Clip...\n"
     ]
    },
    {
     "name": "stderr",
     "output_type": "stream",
     "text": [
      "4it [00:00, 10.25it/s]\n",
      "0it [00:00, ?it/s]"
     ]
    },
    {
     "name": "stdout",
     "output_type": "stream",
     "text": [
      "Applying Bandpass...\n"
     ]
    },
    {
     "name": "stderr",
     "output_type": "stream",
     "text": [
      "4it [00:00,  9.77it/s]\n",
      "0it [00:00, ?it/s]"
     ]
    },
    {
     "name": "stdout",
     "output_type": "stream",
     "text": [
      "Applying Second Clip...\n"
     ]
    },
    {
     "name": "stderr",
     "output_type": "stream",
     "text": [
      "4it [00:00,  9.66it/s]\n"
     ]
    },
    {
     "name": "stdout",
     "output_type": "stream",
     "text": [
      "Applying Gaussian Low Pass...\n"
     ]
    },
    {
     "name": "stderr",
     "output_type": "stream",
     "text": [
      "\r",
      "0it [00:00, ?it/s]"
     ]
    },
    {
     "name": "stdout",
     "output_type": "stream",
     "text": [
      "Applying Final Clips...\n"
     ]
    },
    {
     "name": "stderr",
     "output_type": "stream",
     "text": [
      "4it [00:00, 10.27it/s]\n",
      "4it [00:00, 10.52it/s]\n"
     ]
    }
   ],
   "source": [
    "z_proj = preprocess_fov(z_proj, n_processes=22)"
   ]
  },
  {
   "cell_type": "markdown",
   "metadata": {},
   "source": [
    "Find spots\n",
    "----------\n",
    "Finally, a local blob detector that finds spots in each (z, y, x) volume\n",
    "separately is applied. The user selects an \"anchor round\" and spots found in\n",
    "all channels of that round are used to seed a local search across other rounds\n",
    "and channels. The closest spot is selected, and any spots outside the search\n",
    "radius (here 10 pixels) is discarded.\n",
    "\n",
    "The Spot finder returns an IntensityTable containing all spots from round\n",
    "zero. Note that many of the spots do _not_ identify spots in other rounds and\n",
    "channels and will therefore fail decoding. Because of the stringency built\n",
    "into the STARmap codebook, it is OK to be relatively permissive with the spot\n",
    "finding parameters for this assay."
   ]
  },
  {
   "cell_type": "code",
   "execution_count": null,
   "metadata": {},
   "outputs": [
    {
     "name": "stderr",
     "output_type": "stream",
     "text": [
      "\r",
      "  0%|          | 0/100 [00:00<?, ?it/s]"
     ]
    },
    {
     "name": "stdout",
     "output_type": "stream",
     "text": [
      "Determining optimal threshold ...\n"
     ]
    },
    {
     "name": "stderr",
     "output_type": "stream",
     "text": [
      "\r",
      "  0%|          | 0/100 [00:00<?, ?it/s]"
     ]
    },
    {
     "name": "stdout",
     "output_type": "stream",
     "text": [
      "Determining optimal threshold ...\n"
     ]
    },
    {
     "name": "stderr",
     "output_type": "stream",
     "text": [
      "\r",
      "  0%|          | 0/100 [00:00<?, ?it/s]"
     ]
    },
    {
     "name": "stdout",
     "output_type": "stream",
     "text": [
      "Determining optimal threshold ...\n"
     ]
    },
    {
     "name": "stderr",
     "output_type": "stream",
     "text": [
      "\r",
      "  0%|          | 0/100 [00:00<?, ?it/s]"
     ]
    },
    {
     "name": "stdout",
     "output_type": "stream",
     "text": [
      "Determining optimal threshold ...\n"
     ]
    },
    {
     "name": "stderr",
     "output_type": "stream",
     "text": [
      " 84%|████████▍ | 84/100 [02:44<00:32,  2.01s/it]"
     ]
    },
    {
     "name": "stdout",
     "output_type": "stream",
     "text": [
      "Stopping early at threshold=0.01991593376780399. Number of spots fell below: 3\n"
     ]
    },
    {
     "name": "stderr",
     "output_type": "stream",
     "text": [
      " 86%|████████▌ | 86/100 [02:48<00:27,  1.96s/it]"
     ]
    },
    {
     "name": "stdout",
     "output_type": "stream",
     "text": [
      "computing final spots ...\n"
     ]
    },
    {
     "name": "stderr",
     "output_type": "stream",
     "text": [
      " 87%|████████▋ | 87/100 [02:50<00:25,  1.94s/it]"
     ]
    },
    {
     "name": "stdout",
     "output_type": "stream",
     "text": [
      "Stopping early at threshold=0.00034101551687909347. Number of spots fell below: 3\n"
     ]
    },
    {
     "name": "stderr",
     "output_type": "stream",
     "text": [
      " 86%|████████▌ | 86/100 [02:54<00:27,  1.97s/it]"
     ]
    },
    {
     "name": "stdout",
     "output_type": "stream",
     "text": [
      "computing final spots ...\n",
      "Stopping early at threshold=0.0024416753669466934. Number of spots fell below: 3\n"
     ]
    },
    {
     "name": "stderr",
     "output_type": "stream",
     "text": [
      " 88%|████████▊ | 88/100 [02:58<00:24,  2.00s/it]"
     ]
    },
    {
     "name": "stdout",
     "output_type": "stream",
     "text": [
      "computing final spots ...\n",
      "Stopping early at threshold=0.015394293599658541. Number of spots fell below: 3\n",
      "computing final spots ...\n"
     ]
    }
   ],
   "source": [
    "import starfish\n",
    "import time\n",
    "import numpy as np\n",
    "lsbd = starfish.spots.DetectSpots.BlobDetector(\n",
    "     min_sigma=.45,\n",
    "     max_sigma=1.25,\n",
    "     num_sigma=25,\n",
    "     threshold=np.percentile(np.ravel(z_proj.xarray.values), 97),\n",
    "     is_volume=False,\n",
    "     overlap=0.7,\n",
    "# #     exclude_border=2,\n",
    "# #     anchor_round=0,\n",
    "# #     search_radius=10,\n",
    " )\n",
    "# tlmpf = starfish.spots.DetectSpots.TrackpyLocalMaxPeakFinder(\n",
    "#     spot_diameter=1,  # must be odd integer\n",
    "#     min_mass=0.02,|\n",
    "#     max_size=5,  # this is max radius\n",
    "#     separation=1,\n",
    "#     noise_size=0.65,  # this is not used because preprocess is False\n",
    "#     preprocess=False,\n",
    "#     percentile=10,  # this is irrelevant when min_mass, spot_diameter, and max_size are set properly\n",
    "#     verbose=True,\n",
    "#     is_volume=True,\n",
    "# )\n",
    "lmpf = starfish.spots.DetectSpots.LocalMaxPeakFinder(\n",
    "min_distance=2,\n",
    "stringency=0,\n",
    "min_obj_area=4,\n",
    "max_obj_area=600,\n",
    "verbose=True,\n",
    "is_volume=False)\n",
    "\n",
    "# intensities = lsbd.run(z_proj, n_processes=22)\n",
    "# intensities = tlmpf.run(image, n_processes=22)\n",
    "start: float = time.perf_counter()\n",
    "intensities = lmpf.run(z_proj, n_processes=22)\n",
    "print(f\"Minutes elapsed: {(start - time.perf_counter())/60}\")"
   ]
  },
  {
   "cell_type": "markdown",
   "metadata": {},
   "source": [
    "Decode spots\n",
    "------------\n",
    "Next, spots are decoded."
   ]
  },
  {
   "cell_type": "code",
   "execution_count": null,
   "metadata": {},
   "outputs": [],
   "source": [
    "decoded = experiment.codebook.decode_per_round_max(intensities.fillna(0))\n",
    "decode_mask = decoded['target'] != 'nan'"
   ]
  },
  {
   "cell_type": "code",
   "execution_count": 35,
   "metadata": {},
   "outputs": [
    {
     "name": "stdout",
     "output_type": "stream",
     "text": [
      "['braycurtis', 'canberra', 'chebyshev', 'cityblock', 'dice', 'euclidean', 'hamming', 'haversine', 'infinity', 'jaccard', 'kulsinski', 'l1', 'l2', 'mahalanobis', 'manhattan', 'matching', 'minkowski', 'p', 'pyfunc', 'rogerstanimoto', 'russellrao', 'seuclidean', 'sokalmichener', 'sokalsneath', 'wminkowski']\n"
     ]
    }
   ],
   "source": [
    "import sklearn\n",
    "print(sorted(sklearn.neighbors.VALID_METRICS['ball_tree']))\n",
    "decoded = experiment.codebook.decode_metric(intensities.fillna(0), 1, 0, 2, 'l2')\n",
    "decode_mask = decoded['target'] != 'nan'"
   ]
  },
  {
   "cell_type": "code",
   "execution_count": null,
   "metadata": {},
   "outputs": [],
   "source": [
    "import pandas as pd\n",
    "from starfish.types import Features\n",
    "from starfish.core.types import DecodedSpots\n",
    "\n",
    "df = pd.DataFrame(dict(decoded['features'].coords))\n",
    "pixel_coordinates = pd.Index(['x', 'y', 'z'])\n",
    "ds = DecodedSpots(df)"
   ]
  },
  {
   "cell_type": "code",
   "execution_count": null,
   "metadata": {
    "scrolled": true
   },
   "outputs": [],
   "source": [
    "ds.data"
   ]
  },
  {
   "cell_type": "code",
   "execution_count": null,
   "metadata": {},
   "outputs": [],
   "source": [
    "%gui qt\n",
    "viewer = starfish.display(\n",
    "    image.max_proj(Axes.ZPLANE), decoded[decode_mask], radius_multiplier=2, mask_intensities=0.0\n",
    ")"
   ]
  },
  {
   "cell_type": "code",
   "execution_count": null,
   "metadata": {
    "scrolled": true
   },
   "outputs": [],
   "source": [
    "counter={\"GFP\": 0, \"RFP\": 0, \"Cy5\": 0, \"iRFP\": 0}\n",
    "for i,j in ds.data.iterrows():\n",
    "    counter[j['target']]+=1\n",
    "print(counter)"
   ]
  },
  {
   "cell_type": "code",
   "execution_count": null,
   "metadata": {},
   "outputs": [],
   "source": []
  }
 ],
 "metadata": {
  "kernelspec": {
   "display_name": "Python 3",
   "language": "python",
   "name": "python3"
  },
  "language_info": {
   "codemirror_mode": {
    "name": "ipython",
    "version": 3
   },
   "file_extension": ".py",
   "mimetype": "text/x-python",
   "name": "python",
   "nbconvert_exporter": "python",
   "pygments_lexer": "ipython3",
   "version": "3.7.3"
  }
 },
 "nbformat": 4,
 "nbformat_minor": 2
}
